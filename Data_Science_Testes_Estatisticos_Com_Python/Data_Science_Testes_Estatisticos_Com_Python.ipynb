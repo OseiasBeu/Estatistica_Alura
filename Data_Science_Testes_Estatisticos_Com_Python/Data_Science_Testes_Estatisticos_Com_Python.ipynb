{
  "nbformat": 4,
  "nbformat_minor": 0,
  "metadata": {
    "colab": {
      "name": "Data_Science_Testes_Estatisticos_Com_Python.ipynb",
      "provenance": [],
      "authorship_tag": "ABX9TyNiJavB4VSvAfXs86Q97nXn",
      "include_colab_link": true
    },
    "kernelspec": {
      "name": "python3",
      "display_name": "Python 3"
    },
    "language_info": {
      "name": "python"
    }
  },
  "cells": [
    {
      "cell_type": "markdown",
      "metadata": {
        "id": "view-in-github",
        "colab_type": "text"
      },
      "source": [
        "<a href=\"https://colab.research.google.com/github/OseiasBeu/StatisticsCourse/blob/main/Data_Science_Testes_Estatisticos_Com_Python/Data_Science_Testes_Estatisticos_Com_Python.ipynb\" target=\"_parent\"><img src=\"https://colab.research.google.com/assets/colab-badge.svg\" alt=\"Open In Colab\"/></a>"
      ]
    },
    {
      "cell_type": "code",
      "execution_count": null,
      "metadata": {
        "id": "tP_Tj6UBeOQt"
      },
      "outputs": [],
      "source": [
        "import pandas as pd\n",
        "tmdb = pd.read_csv('tmdb_5000_movies.csv')"
      ]
    }
  ]
}