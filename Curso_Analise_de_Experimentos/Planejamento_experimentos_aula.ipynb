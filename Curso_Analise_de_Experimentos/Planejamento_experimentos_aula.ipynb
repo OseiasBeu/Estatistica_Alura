{
  "cells": [
    {
      "cell_type": "markdown",
      "metadata": {
        "id": "view-in-github",
        "colab_type": "text"
      },
      "source": [
        "<a href=\"https://colab.research.google.com/github/OseiasBeu/StatisticsCourse/blob/main/Curso_Analise_de_Experimentos/Planejamento_experimentos_aula.ipynb\" target=\"_parent\"><img src=\"https://colab.research.google.com/assets/colab-badge.svg\" alt=\"Open In Colab\"/></a>"
      ]
    },
    {
      "cell_type": "markdown",
      "metadata": {
        "id": "LiP-KfafktcX"
      },
      "source": [
        "<h1 style='color: blue; font-size: 34px; font-weight: bold;'> Planejamento de Experimentos \n",
        "</h1>\n"
      ]
    },
    {
      "cell_type": "markdown",
      "metadata": {
        "id": "S3NwK8vkktcZ"
      },
      "source": [
        "# <font color='red' style='font-size: 30px;'>1.0 Introdução   </font>\n",
        "<hr style='border: 2px solid red;'>\n",
        "\n",
        "\n",
        "\n",
        "\n",
        "<p style='font-size: 18px; line-height: 2; margin: 0px 0px; text-align: justify; text-indent: 0px;'>    \n",
        "<i> “Chamar um especialista em estatística depois que o experimento foi feito pode ser o mesmo que pedir para ele fazer um exame post-mortem. Talvez ele consiga dizer do que foi que o experimento morreu.”  </i>     \n",
        "</p>    \n",
        "\n",
        "<p style='font-size: 18px; line-height: 2; margin: 0px 0px; text-align: right; text-indent: 0px;'>    \n",
        "    <b>Sir Ronald Fisher</b>  \n",
        "\n",
        "<hr>\n",
        "\n",
        "\n",
        "\n",
        "\n"
      ]
    },
    {
      "cell_type": "markdown",
      "metadata": {
        "id": "jXGSMAtSktca"
      },
      "source": [
        "# <font color='red' style='font-size: 30px;'> Introdução à análise de experimentos   </font>\n",
        "<hr style='border: 2px solid red;'>"
      ]
    },
    {
      "cell_type": "markdown",
      "metadata": {
        "id": "exftFyoPktcb"
      },
      "source": [
        "# <font color = 'purple'> Inserindo o experimento num Data Frame </font>\n",
        "\n",
        "\n",
        "<p style='margin: 30px 30px;'>\n",
        "    \n",
        "<hr style = 'border: 1px solid purple;'>"
      ]
    },
    {
      "cell_type": "markdown",
      "metadata": {
        "id": "M4JUw3wSktcc"
      },
      "source": [
        "## Importando as bibliotecas "
      ]
    },
    {
      "cell_type": "markdown",
      "metadata": {
        "id": "gbOcy4dAktcc"
      },
      "source": [
        "### Pandas\n",
        "\n",
        "https://pandas.pydata.org/"
      ]
    },
    {
      "cell_type": "code",
      "execution_count": null,
      "metadata": {
        "id": "kfnUX_Clktcc"
      },
      "outputs": [],
      "source": [
        ""
      ]
    },
    {
      "cell_type": "markdown",
      "metadata": {
        "id": "o0wgn5Njktcd"
      },
      "source": [
        "### Numpy\n",
        "\n",
        "http://www.numpy.org/"
      ]
    },
    {
      "cell_type": "code",
      "execution_count": null,
      "metadata": {
        "id": "kCKhg0jjktcd"
      },
      "outputs": [],
      "source": [
        ""
      ]
    },
    {
      "cell_type": "markdown",
      "metadata": {
        "id": "bfn0CWrPktce"
      },
      "source": [
        "\n",
        "\n",
        "<p style='font-size: 18px; line-height: 2; margin: 0px 0px; text-align: justify; text-indent: 0px;'>\n",
        "    <font color=\"red\"> <b>Ensaios realizados na forma normalizada</b> \n",
        "\n",
        "\n",
        "<img width='800px' src='figuras/Figura_2.png'>\n",
        "\n",
        " \n",
        "   \n",
        "   \n",
        "    "
      ]
    },
    {
      "cell_type": "markdown",
      "metadata": {
        "id": "fCtLsxf_ktce"
      },
      "source": [
        "\n",
        "<p style='font-size: 18px; line-height: 2; margin: 0px 0px; text-align: justify; text-indent: 0px;'>\n",
        "<font color=\"MidnightBlue\"> Construindo uma matriz representando todos os ensaios realizados:\n"
      ]
    },
    {
      "cell_type": "code",
      "execution_count": null,
      "metadata": {
        "id": "xv_KrCobktce"
      },
      "outputs": [],
      "source": [
        ""
      ]
    },
    {
      "cell_type": "markdown",
      "metadata": {
        "id": "qCKJKulZktcf"
      },
      "source": [
        "### pyDOE2\n",
        "\n",
        "https://pypi.org/project/pyDOE2/"
      ]
    },
    {
      "cell_type": "code",
      "execution_count": null,
      "metadata": {
        "id": "2fRv9m_8ktcf"
      },
      "outputs": [],
      "source": [
        ""
      ]
    },
    {
      "cell_type": "markdown",
      "metadata": {
        "id": "Ea6a2a5Rktcf"
      },
      "source": [
        "## Costruindo um planejamento fatorial de 2²\n"
      ]
    },
    {
      "cell_type": "code",
      "execution_count": null,
      "metadata": {
        "id": "sKa-Abjzktcf"
      },
      "outputs": [],
      "source": [
        ""
      ]
    },
    {
      "cell_type": "code",
      "execution_count": null,
      "metadata": {
        "id": "onMSPkTmktcf"
      },
      "outputs": [],
      "source": [
        ""
      ]
    },
    {
      "cell_type": "markdown",
      "metadata": {
        "id": "omKY1b8_ktcf"
      },
      "source": [
        "## Incerindo o planejamento em um Data Frame"
      ]
    },
    {
      "cell_type": "code",
      "execution_count": null,
      "metadata": {
        "id": "nV26VS1Kktcg"
      },
      "outputs": [],
      "source": [
        ""
      ]
    },
    {
      "cell_type": "code",
      "execution_count": null,
      "metadata": {
        "id": "jLW737vJktcg"
      },
      "outputs": [],
      "source": [
        ""
      ]
    },
    {
      "cell_type": "markdown",
      "metadata": {
        "id": "t-NydpATktcg"
      },
      "source": [
        "### Inserindo coluna com os resultados "
      ]
    },
    {
      "cell_type": "code",
      "execution_count": null,
      "metadata": {
        "id": "dIl-Lj9bktcg"
      },
      "outputs": [],
      "source": [
        ""
      ]
    },
    {
      "cell_type": "code",
      "execution_count": null,
      "metadata": {
        "id": "_O0cOKtAktcg"
      },
      "outputs": [],
      "source": [
        ""
      ]
    },
    {
      "cell_type": "markdown",
      "metadata": {
        "id": "WaEw1Jfiktcg"
      },
      "source": [
        "<hr>\n",
        "<p style='font-size: 18px; line-height: 2; margin: 0px 0px; text-align: justify; text-indent: 0px;'>\n",
        "    <font color=\"MidnightBlue\"> <b>Conclusão:</b> Temos, por fim, nosso experimento representado por um <i>DataFrame</i> do Pandas. Usaremos este <i>DataFrame</i> para iniciarmos a análise do nosso experimento. \n",
        "    \n",
        "<hr>   "
      ]
    },
    {
      "cell_type": "markdown",
      "metadata": {
        "id": "N1h5mjSvktch"
      },
      "source": [
        "# <font color = 'purple'> Analisando graficamente o experimento   </font>\n",
        "\n",
        "\n",
        "<p style='margin: 30px 30px;'>\n",
        "    \n",
        "<hr style = 'border: 1px solid purple;'>"
      ]
    },
    {
      "cell_type": "markdown",
      "metadata": {
        "id": "HFzoNQv2ktch"
      },
      "source": [
        "###  Importando o Seaborn\n",
        "\n",
        "https://seaborn.pydata.org"
      ]
    },
    {
      "cell_type": "code",
      "execution_count": null,
      "metadata": {
        "id": "71NbGdeCktch"
      },
      "outputs": [],
      "source": [
        ""
      ]
    },
    {
      "cell_type": "code",
      "execution_count": null,
      "metadata": {
        "id": "AZJMH5uLktch"
      },
      "outputs": [],
      "source": [
        "# paletas -> Accent, Accent_r, Blues, Blues_r, BrBG, BrBG_r, BuGn, BuGn_r, BuPu, BuPu_r, CMRmap, CMRmap_r, Dark2, Dark2_r, GnBu, GnBu_r, Greens, Greens_r, Greys, Greys_r, OrRd, OrRd_r, Oranges, Oranges_r, PRGn, PRGn_r, Paired, Paired_r, Pastel1, Pastel1_r, Pastel2, Pastel2_r, PiYG, PiYG_r, PuBu, PuBuGn, PuBuGn_r, PuBu_r, PuOr, PuOr_r, PuRd, PuRd_r, Purples, Purples_r, RdBu, RdBu_r, RdGy, RdGy_r, RdPu, RdPu_r, RdYlBu, RdYlBu_r, RdYlGn, RdYlGn_r, Reds, Reds_r, Set1, Set1_r, Set2, Set2_r, Set3, Set3_r, Spectral, Spectral_r, Wistia, Wistia_r, YlGn, YlGnBu, YlGnBu_r, YlGn_r, YlOrBr, YlOrBr_r, YlOrRd, YlOrRd_r, afmhot, afmhot_r, autumn, autumn_r, binary, binary_r, bone, bone_r, brg, brg_r, bwr, bwr_r, cividis, cividis_r, cool, cool_r, coolwarm, coolwarm_r, copper, copper_r, cubehelix, cubehelix_r, flag, flag_r, gist_earth, gist_earth_r, gist_gray, gist_gray_r, gist_heat, gist_heat_r, gist_ncar, gist_ncar_r, gist_rainbow, gist_rainbow_r, gist_stern, gist_stern_r, gist_yarg, gist_yarg_r, gnuplot, gnuplot2, gnuplot2_r, gnuplot_r, gray, gray_r, hot, hot_r, hsv, hsv_r, icefire, icefire_r, inferno, inferno_r, jet, jet_r, magma, magma_r, mako, mako_r, nipy_spectral, nipy_spectral_r, ocean, ocean_r, pink, pink_r, plasma, plasma_r, prism, prism_r, rainbow, rainbow_r, rocket, rocket_r, seismic, seismic_r, spring, spring_r, summer, summer_r, tab10, tab10_r, tab20, tab20_r, tab20b, tab20b_r, tab20c, tab20c_r, terrain, terrain_r, viridis, viridis_r, vlag, vlag_r, winter, winter_r\n",
        "\n",
        "\n",
        "# estilo -> white, dark, whitegrid, darkgrid, ticks\n"
      ]
    },
    {
      "cell_type": "markdown",
      "metadata": {
        "id": "rpYnWt2iktci"
      },
      "source": [
        "### Para a farinha"
      ]
    },
    {
      "cell_type": "code",
      "execution_count": null,
      "metadata": {
        "id": "p7mYk1upktci"
      },
      "outputs": [],
      "source": [
        ""
      ]
    },
    {
      "cell_type": "markdown",
      "metadata": {
        "id": "2PiCjEY2ktci"
      },
      "source": [
        "### Para o chocolate"
      ]
    },
    {
      "cell_type": "code",
      "execution_count": null,
      "metadata": {
        "id": "BzSyPQbYktci"
      },
      "outputs": [],
      "source": [
        ""
      ]
    },
    {
      "cell_type": "markdown",
      "metadata": {
        "id": "7njihwm1ktci"
      },
      "source": [
        "# <font color = 'purple'> Ajustando o modelo estatístico </font>\n",
        "\n",
        "\n",
        "<p style='margin: 30px 30px;'>\n",
        "    \n",
        "<hr style = 'border: 1px solid purple;'>"
      ]
    },
    {
      "cell_type": "markdown",
      "metadata": {
        "id": "SaD1HdOMktci"
      },
      "source": [
        "<hr>\n",
        "\n",
        "<img width='800px' src='figuras/Figura_3.png'>\n",
        "\n",
        "<p style='margin: 30px 30px;'> \n",
        "\n",
        "<hr>\n"
      ]
    },
    {
      "cell_type": "markdown",
      "metadata": {
        "id": "N4W5qSoEktcj"
      },
      "source": [
        "### Bibliotecas  Stats Model\n"
      ]
    },
    {
      "cell_type": "code",
      "execution_count": null,
      "metadata": {
        "id": "vNUEJOB-ktcj"
      },
      "outputs": [],
      "source": [
        ""
      ]
    },
    {
      "cell_type": "markdown",
      "metadata": {
        "id": "lPzh0ZRIktcj"
      },
      "source": [
        "### ."
      ]
    },
    {
      "cell_type": "code",
      "execution_count": null,
      "metadata": {
        "id": "yOKEeqAaktcj"
      },
      "outputs": [],
      "source": [
        ""
      ]
    },
    {
      "cell_type": "code",
      "execution_count": null,
      "metadata": {
        "id": "V8wu4cNxktcj"
      },
      "outputs": [],
      "source": [
        ""
      ]
    },
    {
      "cell_type": "code",
      "execution_count": null,
      "metadata": {
        "id": "qxAElbt4ktck"
      },
      "outputs": [],
      "source": [
        ""
      ]
    },
    {
      "cell_type": "markdown",
      "metadata": {
        "id": "B0YvsDf0ktck"
      },
      "source": [
        "# <font color = 'purple'> Aumentando os Graus de liberdade  </font>\n",
        "\n",
        "\n",
        "<p style='margin: 30px 30px;'>\n",
        "    \n",
        "<hr style = 'border: 1px solid purple;'>\n",
        "\n",
        "\n",
        "\n",
        "<p style='margin: 30px 30px;'>     \n",
        "    \n"
      ]
    },
    {
      "cell_type": "markdown",
      "metadata": {
        "id": "wcYtYsIyktck"
      },
      "source": [
        "<hr>\n",
        "\n",
        "\n",
        "<p style='font-size: 18px; line-height: 2; margin: 0px 0px; text-align: justify; text-indent: 0px;'>\n",
        "    <font color=\"red\"> <b>Replicatas no centro</b>\n",
        "\n",
        "\n",
        "<img width='800px' src='figuras/Figura_5.png'> \n",
        "\n",
        "\n",
        "<p style='margin: 30px 30px;'> \n",
        "    \n",
        "    \n",
        " \n",
        "    \n",
        "\n",
        "    \n",
        "<hr>    "
      ]
    },
    {
      "cell_type": "code",
      "execution_count": null,
      "metadata": {
        "id": "DhWD_pKCktck"
      },
      "outputs": [],
      "source": [
        ""
      ]
    },
    {
      "cell_type": "code",
      "execution_count": null,
      "metadata": {
        "id": "9-gyYdYSktck"
      },
      "outputs": [],
      "source": [
        ""
      ]
    },
    {
      "cell_type": "code",
      "execution_count": null,
      "metadata": {
        "id": "UW2Vpqi2ktck"
      },
      "outputs": [],
      "source": [
        ""
      ]
    },
    {
      "cell_type": "markdown",
      "metadata": {
        "id": "Ry3iYZLNktcl"
      },
      "source": [
        "### ."
      ]
    },
    {
      "cell_type": "code",
      "execution_count": null,
      "metadata": {
        "id": "W4qCVjUZktcl"
      },
      "outputs": [],
      "source": [
        ""
      ]
    },
    {
      "cell_type": "code",
      "execution_count": null,
      "metadata": {
        "id": "OQAF_Tfpktcl"
      },
      "outputs": [],
      "source": [
        ""
      ]
    },
    {
      "cell_type": "markdown",
      "metadata": {
        "id": "VWo8wShpktcl"
      },
      "source": [
        "# <font color = 'purple'>  Análise de significância estatística   </font>\n",
        "\n",
        "\n",
        "<p style='margin: 30px 30px;'>\n",
        "    \n",
        "<hr style = 'border: 1px solid purple;'>"
      ]
    },
    {
      "cell_type": "code",
      "execution_count": null,
      "metadata": {
        "id": "x9w8o8wEktcl"
      },
      "outputs": [],
      "source": [
        ""
      ]
    },
    {
      "cell_type": "code",
      "execution_count": null,
      "metadata": {
        "id": "GrnHoSmIktcl"
      },
      "outputs": [],
      "source": [
        ""
      ]
    },
    {
      "cell_type": "code",
      "execution_count": null,
      "metadata": {
        "id": "3MrtcRmXktcm"
      },
      "outputs": [],
      "source": [
        ""
      ]
    },
    {
      "cell_type": "markdown",
      "metadata": {
        "id": "HjomMvJoktcm"
      },
      "source": [
        "<p style='margin: 200px 200px;'>    \n",
        "\n",
        "\n",
        "<hr>\n",
        "\n",
        "\n",
        "    \n",
        " <img width='400px' src='figuras/Figura_6.png'> \n",
        "\n",
        "\n",
        "<p style='margin: 30px 30px;'>    \n",
        "\n",
        "<hr>\n",
        "\n",
        "\n",
        " <img width='600px' src='figuras/Figura_7.png'> \n",
        "\n",
        "\n",
        "<p style='margin: 30px 30px;'>        \n",
        "    \n",
        "    \n",
        " <hr>   \n",
        "    \n",
        "\n",
        "  \n",
        " <img width='600px' src='figuras/Figura_10.png'> \n",
        "\n",
        "\n",
        "<p style='margin: 30px 30px;'>       \n",
        "  \n",
        "<hr>        "
      ]
    },
    {
      "cell_type": "markdown",
      "metadata": {
        "id": "4kWjjJu5ktcm"
      },
      "source": [
        "\n",
        "# <font color = 'purple'> Teste de significância estatística usando o <b>t<b>    </font>\n",
        "\n",
        "\n",
        "<p style='margin: 30px 30px;'>\n",
        "    \n",
        "<hr style = 'border: 1px solid purple;'>\n",
        "\n",
        "\n",
        "\n"
      ]
    },
    {
      "cell_type": "markdown",
      "metadata": {
        "id": "R0XTdi_1ktcp"
      },
      "source": [
        "<hr>\n",
        "<img width='600px' src='figuras/Figura_11.png'> \n",
        "\n",
        "\n",
        "<hr>\n",
        "  <p style='margin: 30px 30px;'>     \n",
        "<img width='900px' src='figuras/Figura_8.png'> \n",
        "\n",
        "\n",
        "<hr>\n",
        "\n"
      ]
    },
    {
      "cell_type": "markdown",
      "metadata": {
        "id": "QG7yfECektcp"
      },
      "source": [
        "<p style='margin: 150px 150px;'>     \n",
        "<img width='1000px' src='figuras/Figura_20.png'\n",
        "\n",
        "\n",
        "\n",
        "<hr>\n",
        "<p style='margin: 150px 150px;'>    "
      ]
    },
    {
      "cell_type": "code",
      "execution_count": null,
      "metadata": {
        "id": "dpwvyrKGktcp"
      },
      "outputs": [],
      "source": [
        ""
      ]
    },
    {
      "cell_type": "code",
      "execution_count": null,
      "metadata": {
        "id": "-JRjob78ktcp"
      },
      "outputs": [],
      "source": [
        ""
      ]
    },
    {
      "cell_type": "code",
      "execution_count": null,
      "metadata": {
        "id": "hQKHNlOhktcq"
      },
      "outputs": [],
      "source": [
        ""
      ]
    },
    {
      "cell_type": "code",
      "execution_count": null,
      "metadata": {
        "id": "cTGCm4Hnktcq"
      },
      "outputs": [],
      "source": [
        ""
      ]
    },
    {
      "cell_type": "markdown",
      "metadata": {
        "id": "5U22Vp_hktcq"
      },
      "source": [
        "### ."
      ]
    },
    {
      "cell_type": "code",
      "execution_count": null,
      "metadata": {
        "id": "QUQVy0uuktcq"
      },
      "outputs": [],
      "source": [
        ""
      ]
    },
    {
      "cell_type": "markdown",
      "metadata": {
        "id": "VMNSnQO-ktcq"
      },
      "source": [
        "### .\n"
      ]
    },
    {
      "cell_type": "code",
      "execution_count": null,
      "metadata": {
        "id": "7QNVWKgqktcq"
      },
      "outputs": [],
      "source": [
        ""
      ]
    },
    {
      "cell_type": "code",
      "execution_count": null,
      "metadata": {
        "id": "eqII5rwjktcq"
      },
      "outputs": [],
      "source": [
        ""
      ]
    },
    {
      "cell_type": "code",
      "execution_count": null,
      "metadata": {
        "id": "uI5gaPZTktcq"
      },
      "outputs": [],
      "source": [
        ""
      ]
    },
    {
      "cell_type": "code",
      "execution_count": null,
      "metadata": {
        "id": "DZb1U3NOktcq"
      },
      "outputs": [],
      "source": [
        ""
      ]
    },
    {
      "cell_type": "markdown",
      "metadata": {
        "id": "SfpmnBHVktcq"
      },
      "source": [
        "### Plotando o gráfico "
      ]
    },
    {
      "cell_type": "code",
      "execution_count": null,
      "metadata": {
        "id": "SFcPz4hNktcr"
      },
      "outputs": [],
      "source": [
        ""
      ]
    },
    {
      "cell_type": "markdown",
      "metadata": {
        "id": "LdYTHyH6ktcr"
      },
      "source": [
        "# <font color = 'purple'> Propondo um novo modelo   </font>\n",
        "\n",
        "\n",
        "<p style='margin: 30px 30px;'>\n",
        "    \n",
        "<hr style = 'border: 1px solid purple;'>\n"
      ]
    },
    {
      "cell_type": "markdown",
      "metadata": {
        "id": "zO63iCn0ktcr"
      },
      "source": [
        "<hr>\n",
        "\n",
        "<img width='800px' src='figuras/Figura_3.png'>\n",
        "\n",
        "<p style='margin: 30px 30px;'> \n",
        "\n",
        "<hr>"
      ]
    },
    {
      "cell_type": "markdown",
      "metadata": {
        "id": "SasXXaaMktcr"
      },
      "source": [
        "<p style='margin: 200px 200px;'>\n",
        "\n",
        "\n",
        "<hr>\n",
        "\n",
        "<img width='600px' src='figuras/Figura_9.png'> \n",
        "\n",
        "<p style='font-size: 18px; line-height: 2; margin: 0px 0px; text-align: justify; text-indent: 0px;'>\n",
        "\n",
        "\n",
        "<p style='margin: 30px 30px;'>\n",
        "\n",
        "    \n",
        "<hr>    \n"
      ]
    },
    {
      "cell_type": "code",
      "execution_count": null,
      "metadata": {
        "id": "LDnakfs5ktcr"
      },
      "outputs": [],
      "source": [
        ""
      ]
    },
    {
      "cell_type": "code",
      "execution_count": null,
      "metadata": {
        "id": "JzFHdQetktcr"
      },
      "outputs": [],
      "source": [
        ""
      ]
    },
    {
      "cell_type": "code",
      "execution_count": null,
      "metadata": {
        "id": "HJZzpba3ktcr"
      },
      "outputs": [],
      "source": [
        ""
      ]
    },
    {
      "cell_type": "markdown",
      "metadata": {
        "id": "bcQ43Bipktcr"
      },
      "source": [
        "<hr>"
      ]
    },
    {
      "cell_type": "markdown",
      "metadata": {
        "id": "CXDyJG6Mktcs"
      },
      "source": [
        "# <font color = 'purple'> Gráfico Padronizado de Pareto do novo modelo    </font>\n",
        "\n",
        "\n",
        "<p style='margin: 30px 30px;'>\n",
        "    \n",
        "<hr style = 'border: 1px solid purple;'>\n"
      ]
    },
    {
      "cell_type": "code",
      "execution_count": null,
      "metadata": {
        "id": "-kLWYFv-ktcs"
      },
      "outputs": [],
      "source": [
        ""
      ]
    },
    {
      "cell_type": "code",
      "execution_count": null,
      "metadata": {
        "id": "Z9owe3xqktcs"
      },
      "outputs": [],
      "source": [
        ""
      ]
    },
    {
      "cell_type": "code",
      "execution_count": null,
      "metadata": {
        "id": "mfn6HVTMktcs"
      },
      "outputs": [],
      "source": [
        ""
      ]
    },
    {
      "cell_type": "code",
      "execution_count": null,
      "metadata": {
        "id": "JOegS-UTktcs"
      },
      "outputs": [],
      "source": [
        ""
      ]
    },
    {
      "cell_type": "markdown",
      "metadata": {
        "id": "UkemLO2Fktcs"
      },
      "source": [
        "### ."
      ]
    },
    {
      "cell_type": "code",
      "execution_count": null,
      "metadata": {
        "id": "IW05dFZXktcs"
      },
      "outputs": [],
      "source": [
        ""
      ]
    },
    {
      "cell_type": "code",
      "execution_count": null,
      "metadata": {
        "id": "iCCQ9tcmktcs"
      },
      "outputs": [],
      "source": [
        ""
      ]
    },
    {
      "cell_type": "code",
      "execution_count": null,
      "metadata": {
        "id": "Fbog7ie9ktcs"
      },
      "outputs": [],
      "source": [
        ""
      ]
    },
    {
      "cell_type": "markdown",
      "metadata": {
        "id": "WuZdeJ2Oktcs"
      },
      "source": [
        "### Plotando o gráfico"
      ]
    },
    {
      "cell_type": "code",
      "execution_count": null,
      "metadata": {
        "id": "RL6p-mX1ktct"
      },
      "outputs": [],
      "source": [
        "\n"
      ]
    },
    {
      "cell_type": "markdown",
      "metadata": {
        "id": "GkSBiSr7ktct"
      },
      "source": [
        "<font color='red' style='font-size: 30px;'> Preditos por observados  </font>\n",
        "<hr style='border: 2px solid red;'>"
      ]
    },
    {
      "cell_type": "code",
      "execution_count": null,
      "metadata": {
        "id": "rVIjxfYvktct"
      },
      "outputs": [],
      "source": [
        ""
      ]
    },
    {
      "cell_type": "code",
      "execution_count": null,
      "metadata": {
        "id": "_Tw4Ljjoktct"
      },
      "outputs": [],
      "source": [
        ""
      ]
    },
    {
      "cell_type": "markdown",
      "metadata": {
        "id": "BO_IfKQdktct"
      },
      "source": [
        "### ."
      ]
    },
    {
      "cell_type": "code",
      "execution_count": null,
      "metadata": {
        "id": "5RRKH7Q7ktct"
      },
      "outputs": [],
      "source": [
        ""
      ]
    },
    {
      "cell_type": "code",
      "execution_count": null,
      "metadata": {
        "id": "rROofTIZktct"
      },
      "outputs": [],
      "source": [
        ""
      ]
    },
    {
      "cell_type": "markdown",
      "metadata": {
        "id": "0Dhqtct1ktct"
      },
      "source": [
        "### ."
      ]
    },
    {
      "cell_type": "code",
      "execution_count": null,
      "metadata": {
        "id": "GYIXG8DIktct"
      },
      "outputs": [],
      "source": [
        ""
      ]
    },
    {
      "cell_type": "code",
      "execution_count": null,
      "metadata": {
        "id": "ewQsg8K5ktcu"
      },
      "outputs": [],
      "source": [
        "\n",
        "\n",
        "\n"
      ]
    },
    {
      "cell_type": "markdown",
      "metadata": {
        "id": "CxSE3Ryfktcu"
      },
      "source": [
        "<hr>"
      ]
    },
    {
      "cell_type": "code",
      "execution_count": null,
      "metadata": {
        "id": "uH-xSFgdktcu"
      },
      "outputs": [],
      "source": [
        ""
      ]
    },
    {
      "cell_type": "markdown",
      "metadata": {
        "id": "_8ZiP-Qnktcu"
      },
      "source": [
        "### ."
      ]
    },
    {
      "cell_type": "markdown",
      "metadata": {
        "id": "h61w91XWktcu"
      },
      "source": [
        "# <font color = 'purple'> Explorando o modelo   </font>\n",
        "\n",
        "\n",
        "<p style='margin: 30px 30px;'>\n",
        "    \n",
        "<hr style = 'border: 1px solid purple;'>"
      ]
    },
    {
      "cell_type": "code",
      "execution_count": null,
      "metadata": {
        "id": "OplCNNJvktcu"
      },
      "outputs": [],
      "source": [
        ""
      ]
    },
    {
      "cell_type": "code",
      "execution_count": null,
      "metadata": {
        "id": "RQZVQi5bktcu"
      },
      "outputs": [],
      "source": [
        ""
      ]
    },
    {
      "cell_type": "markdown",
      "metadata": {
        "id": "5nGndSJwktcu"
      },
      "source": [
        "### ."
      ]
    },
    {
      "cell_type": "markdown",
      "metadata": {
        "id": "b5dKYCrhktcu"
      },
      "source": [
        "### Definindo a função"
      ]
    },
    {
      "cell_type": "code",
      "execution_count": null,
      "metadata": {
        "id": "Txi9WWOmktcv"
      },
      "outputs": [],
      "source": [
        "\n"
      ]
    },
    {
      "cell_type": "code",
      "execution_count": null,
      "metadata": {
        "id": "AahS8y1cktcv"
      },
      "outputs": [],
      "source": [
        ""
      ]
    },
    {
      "cell_type": "markdown",
      "metadata": {
        "id": "Fklr-YsJktcv"
      },
      "source": [
        "\n",
        "<p style='margin: 150px 150px;'>\n",
        "\n",
        "\n",
        "<hr>\n",
        "\n",
        "<img width='700px' src='figuras/Figura_22.png'> \n",
        "\n",
        "\n",
        "<hr>"
      ]
    },
    {
      "cell_type": "markdown",
      "metadata": {
        "id": "bdx8iZbcktcv"
      },
      "source": [
        "# <font color = 'purple'> Mapa de cores   </font>\n",
        "\n",
        "\n",
        "<p style='margin: 30px 30px;'>\n",
        "    \n",
        "<hr style = 'border: 1px solid purple;'>"
      ]
    },
    {
      "cell_type": "markdown",
      "metadata": {
        "id": "TidIIK4Mktcv"
      },
      "source": [
        "\n",
        "<p style='margin: 150px 150px;'>\n",
        "\n",
        "\n",
        "<hr>\n",
        "\n",
        "<img width='700px' src='figuras/Figura_23.jpg'> \n",
        "\n",
        "#### Fonte: National Centers for Environmental Prediction\n",
        "\n",
        "\n",
        "<hr>\n",
        "\n",
        "\n",
        "\n",
        "<p style='margin: 50px 50px;'>\n"
      ]
    },
    {
      "cell_type": "markdown",
      "metadata": {
        "id": "_8jZqR4Rktcv"
      },
      "source": [
        "\n",
        "\n",
        "<p style='margin: 150px 150px;'>\n",
        "\n",
        "\n",
        "<hr>\n",
        "\n",
        "<img width='600px' src='figuras/Figura_24.png'> \n",
        "\n",
        "\n",
        "<hr>\n",
        "\n",
        "\n",
        "\n",
        "<p style='margin: 30px 30px;'>"
      ]
    },
    {
      "cell_type": "code",
      "execution_count": null,
      "metadata": {
        "id": "AuOYcz0Uktcv"
      },
      "outputs": [],
      "source": [
        ""
      ]
    },
    {
      "cell_type": "code",
      "execution_count": null,
      "metadata": {
        "id": "Hxpo-ob5ktcw"
      },
      "outputs": [],
      "source": [
        ""
      ]
    },
    {
      "cell_type": "markdown",
      "metadata": {
        "id": "Grt5DEr2ktcw"
      },
      "source": [
        "### . "
      ]
    },
    {
      "cell_type": "code",
      "execution_count": null,
      "metadata": {
        "id": "p4qhxQ6oktcw"
      },
      "outputs": [],
      "source": [
        ""
      ]
    },
    {
      "cell_type": "code",
      "execution_count": null,
      "metadata": {
        "id": "V4Q4CIvRktcw"
      },
      "outputs": [],
      "source": [
        ""
      ]
    },
    {
      "cell_type": "markdown",
      "metadata": {
        "id": "3Dq3OEFdktcw"
      },
      "source": [
        "### ."
      ]
    },
    {
      "cell_type": "markdown",
      "metadata": {
        "id": "2BMLgql3ktcw"
      },
      "source": [
        "### Construindo a superfície de resposta"
      ]
    },
    {
      "cell_type": "code",
      "execution_count": null,
      "metadata": {
        "id": "qKWY_qRnktcw"
      },
      "outputs": [],
      "source": [
        ""
      ]
    },
    {
      "cell_type": "markdown",
      "metadata": {
        "id": "t10izu4Hktcw"
      },
      "source": [
        "https://matplotlib.org/users/colormaps.html"
      ]
    },
    {
      "cell_type": "code",
      "execution_count": null,
      "metadata": {
        "id": "0cYHv0qpktcw"
      },
      "outputs": [],
      "source": [
        ""
      ]
    },
    {
      "cell_type": "code",
      "execution_count": null,
      "metadata": {
        "id": "AMifFTd-ktcx"
      },
      "outputs": [],
      "source": [
        ""
      ]
    }
  ],
  "metadata": {
    "kernelspec": {
      "display_name": "Python 3",
      "language": "python",
      "name": "python3"
    },
    "language_info": {
      "codemirror_mode": {
        "name": "ipython",
        "version": 3
      },
      "file_extension": ".py",
      "mimetype": "text/x-python",
      "name": "python",
      "nbconvert_exporter": "python",
      "pygments_lexer": "ipython3",
      "version": "3.7.3"
    },
    "colab": {
      "name": "Planejamento_experimentos_aula.ipynb",
      "provenance": [],
      "include_colab_link": true
    }
  },
  "nbformat": 4,
  "nbformat_minor": 0
}