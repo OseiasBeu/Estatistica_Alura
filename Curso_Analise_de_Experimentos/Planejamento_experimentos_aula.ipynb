{
  "cells": [
    {
      "cell_type": "markdown",
      "metadata": {
        "id": "view-in-github",
        "colab_type": "text"
      },
      "source": [
        "<a href=\"https://colab.research.google.com/github/OseiasBeu/StatisticsCourse/blob/main/Curso_Analise_de_Experimentos/Planejamento_experimentos_aula.ipynb\" target=\"_parent\"><img src=\"https://colab.research.google.com/assets/colab-badge.svg\" alt=\"Open In Colab\"/></a>"
      ]
    },
    {
      "cell_type": "markdown",
      "metadata": {
        "id": "LiP-KfafktcX"
      },
      "source": [
        "<h1 style='color: blue; font-size: 34px; font-weight: bold;'> Planejamento de Experimentos \n",
        "</h1>\n"
      ]
    },
    {
      "cell_type": "markdown",
      "metadata": {
        "id": "S3NwK8vkktcZ"
      },
      "source": [
        "# <font color='red' style='font-size: 30px;'>1.0 Introdução   </font>\n",
        "<hr style='border: 2px solid red;'>\n",
        "\n",
        "\n",
        "\n",
        "\n",
        "<p style='font-size: 18px; line-height: 2; margin: 0px 0px; text-align: justify; text-indent: 0px;'>    \n",
        "<i> “Chamar um especialista em estatística depois que o experimento foi feito pode ser o mesmo que pedir para ele fazer um exame post-mortem. Talvez ele consiga dizer do que foi que o experimento morreu.”  </i>     \n",
        "</p>    \n",
        "\n",
        "<p style='font-size: 18px; line-height: 2; margin: 0px 0px; text-align: right; text-indent: 0px;'>    \n",
        "    <b>Sir Ronald Fisher</b>  \n",
        "\n",
        "<hr>\n",
        "\n",
        "\n",
        "\n",
        "\n"
      ]
    },
    {
      "cell_type": "markdown",
      "metadata": {
        "id": "jXGSMAtSktca"
      },
      "source": [
        "# <font color='red' style='font-size: 30px;'> Introdução à análise de experimentos   </font>\n",
        "<hr style='border: 2px solid red;'>"
      ]
    },
    {
      "cell_type": "markdown",
      "metadata": {
        "id": "exftFyoPktcb"
      },
      "source": [
        "# <font color = 'purple'> Inserindo o experimento num Data Frame </font>\n",
        "\n",
        "\n",
        "<p style='margin: 30px 30px;'>\n",
        "    \n",
        "<hr style = 'border: 1px solid purple;'>"
      ]
    },
    {
      "cell_type": "markdown",
      "metadata": {
        "id": "M4JUw3wSktcc"
      },
      "source": [
        "## Importando as bibliotecas "
      ]
    },
    {
      "cell_type": "markdown",
      "metadata": {
        "id": "gbOcy4dAktcc"
      },
      "source": [
        "### Pandas\n",
        "\n",
        "https://pandas.pydata.org/"
      ]
    },
    {
      "cell_type": "code",
      "execution_count": 1,
      "metadata": {
        "id": "kfnUX_Clktcc"
      },
      "outputs": [],
      "source": [
        "import pandas as pd"
      ]
    },
    {
      "cell_type": "markdown",
      "metadata": {
        "id": "o0wgn5Njktcd"
      },
      "source": [
        "### Numpy\n",
        "\n",
        "http://www.numpy.org/"
      ]
    },
    {
      "cell_type": "code",
      "execution_count": 2,
      "metadata": {
        "id": "kCKhg0jjktcd"
      },
      "outputs": [],
      "source": [
        "import numpy as np"
      ]
    },
    {
      "cell_type": "markdown",
      "metadata": {
        "id": "bfn0CWrPktce"
      },
      "source": [
        "\n",
        "\n",
        "<p style='font-size: 18px; line-height: 2; margin: 0px 0px; text-align: justify; text-indent: 0px;'>\n",
        "    <font color=\"red\"> <b>Ensaios realizados na forma normalizada</b> \n",
        "\n",
        "\n",
        "<img width='800px' src='https://github.com/OseiasBeu/StatisticsCourse/blob/main/Curso_Analise_de_Experimentos/figuras/Figura_2.png?raw=1'>\n",
        "\n",
        " \n",
        "   \n",
        "   \n",
        "    "
      ]
    },
    {
      "cell_type": "markdown",
      "metadata": {
        "id": "fCtLsxf_ktce"
      },
      "source": [
        "\n",
        "<p style='font-size: 18px; line-height: 2; margin: 0px 0px; text-align: justify; text-indent: 0px;'>\n",
        "<font color=\"MidnightBlue\"> Construindo uma matriz representando todos os ensaios realizados:\n"
      ]
    },
    {
      "cell_type": "code",
      "execution_count": 3,
      "metadata": {
        "id": "xv_KrCobktce"
      },
      "outputs": [],
      "source": [
        "ensaios = np.array([[-1,-1],[1,-1],[-1,1],[1,1]])"
      ]
    },
    {
      "cell_type": "markdown",
      "metadata": {
        "id": "qCKJKulZktcf"
      },
      "source": [
        "### pyDOE2\n",
        "\n",
        "https://pypi.org/project/pyDOE2/"
      ]
    },
    {
      "cell_type": "code",
      "source": [
        "!pip install pyDOE2"
      ],
      "metadata": {
        "colab": {
          "base_uri": "https://localhost:8080/"
        },
        "id": "X1LlJlyAmib1",
        "outputId": "c07aba1b-7ef4-4665-f7c4-b014e081790f"
      },
      "execution_count": 4,
      "outputs": [
        {
          "output_type": "stream",
          "name": "stdout",
          "text": [
            "Looking in indexes: https://pypi.org/simple, https://us-python.pkg.dev/colab-wheels/public/simple/\n",
            "Collecting pyDOE2\n",
            "  Downloading pyDOE2-1.3.0.tar.gz (19 kB)\n",
            "Requirement already satisfied: numpy in /usr/local/lib/python3.7/dist-packages (from pyDOE2) (1.21.6)\n",
            "Requirement already satisfied: scipy in /usr/local/lib/python3.7/dist-packages (from pyDOE2) (1.4.1)\n",
            "Building wheels for collected packages: pyDOE2\n",
            "  Building wheel for pyDOE2 (setup.py) ... \u001b[?25l\u001b[?25hdone\n",
            "  Created wheel for pyDOE2: filename=pyDOE2-1.3.0-py3-none-any.whl size=25539 sha256=5d3ad11ce1efc57f718c21d76afb00dcace544c6243f2592c52512832846440c\n",
            "  Stored in directory: /root/.cache/pip/wheels/49/91/2d/d08e80806bf7756193541f6c03c0492af288fcd6158d3d0998\n",
            "Successfully built pyDOE2\n",
            "Installing collected packages: pyDOE2\n",
            "Successfully installed pyDOE2-1.3.0\n"
          ]
        }
      ]
    },
    {
      "cell_type": "code",
      "execution_count": 5,
      "metadata": {
        "id": "2fRv9m_8ktcf"
      },
      "outputs": [],
      "source": [
        "import pyDOE2 as doe"
      ]
    },
    {
      "cell_type": "markdown",
      "metadata": {
        "id": "Ea6a2a5Rktcf"
      },
      "source": [
        "## Costruindo um planejamento fatorial de 2²\n"
      ]
    },
    {
      "cell_type": "code",
      "execution_count": 6,
      "metadata": {
        "id": "sKa-Abjzktcf"
      },
      "outputs": [],
      "source": [
        "ensaios = doe.ff2n(2)"
      ]
    },
    {
      "cell_type": "code",
      "execution_count": 7,
      "metadata": {
        "id": "onMSPkTmktcf",
        "colab": {
          "base_uri": "https://localhost:8080/"
        },
        "outputId": "f03e05e5-5e03-49bc-8b49-eea5d906842c"
      },
      "outputs": [
        {
          "output_type": "execute_result",
          "data": {
            "text/plain": [
              "array([[-1., -1.],\n",
              "       [ 1., -1.],\n",
              "       [-1.,  1.],\n",
              "       [ 1.,  1.]])"
            ]
          },
          "metadata": {},
          "execution_count": 7
        }
      ],
      "source": [
        "ensaios"
      ]
    },
    {
      "cell_type": "markdown",
      "metadata": {
        "id": "omKY1b8_ktcf"
      },
      "source": [
        "## Incerindo o planejamento em um Data Frame"
      ]
    },
    {
      "cell_type": "code",
      "execution_count": 8,
      "metadata": {
        "id": "nV26VS1Kktcg"
      },
      "outputs": [],
      "source": [
        "experimento = pd.DataFrame(ensaios, columns=['Farinha','Chocolate'])"
      ]
    },
    {
      "cell_type": "code",
      "execution_count": 9,
      "metadata": {
        "id": "jLW737vJktcg",
        "colab": {
          "base_uri": "https://localhost:8080/",
          "height": 0
        },
        "outputId": "03eeae93-4491-4e8a-db5f-83fa55f5b806"
      },
      "outputs": [
        {
          "output_type": "execute_result",
          "data": {
            "text/plain": [
              "   Farinha  Chocolate\n",
              "0     -1.0       -1.0\n",
              "1      1.0       -1.0\n",
              "2     -1.0        1.0\n",
              "3      1.0        1.0"
            ],
            "text/html": [
              "\n",
              "  <div id=\"df-b1ae9566-d439-4cd2-9c58-365045993ae4\">\n",
              "    <div class=\"colab-df-container\">\n",
              "      <div>\n",
              "<style scoped>\n",
              "    .dataframe tbody tr th:only-of-type {\n",
              "        vertical-align: middle;\n",
              "    }\n",
              "\n",
              "    .dataframe tbody tr th {\n",
              "        vertical-align: top;\n",
              "    }\n",
              "\n",
              "    .dataframe thead th {\n",
              "        text-align: right;\n",
              "    }\n",
              "</style>\n",
              "<table border=\"1\" class=\"dataframe\">\n",
              "  <thead>\n",
              "    <tr style=\"text-align: right;\">\n",
              "      <th></th>\n",
              "      <th>Farinha</th>\n",
              "      <th>Chocolate</th>\n",
              "    </tr>\n",
              "  </thead>\n",
              "  <tbody>\n",
              "    <tr>\n",
              "      <th>0</th>\n",
              "      <td>-1.0</td>\n",
              "      <td>-1.0</td>\n",
              "    </tr>\n",
              "    <tr>\n",
              "      <th>1</th>\n",
              "      <td>1.0</td>\n",
              "      <td>-1.0</td>\n",
              "    </tr>\n",
              "    <tr>\n",
              "      <th>2</th>\n",
              "      <td>-1.0</td>\n",
              "      <td>1.0</td>\n",
              "    </tr>\n",
              "    <tr>\n",
              "      <th>3</th>\n",
              "      <td>1.0</td>\n",
              "      <td>1.0</td>\n",
              "    </tr>\n",
              "  </tbody>\n",
              "</table>\n",
              "</div>\n",
              "      <button class=\"colab-df-convert\" onclick=\"convertToInteractive('df-b1ae9566-d439-4cd2-9c58-365045993ae4')\"\n",
              "              title=\"Convert this dataframe to an interactive table.\"\n",
              "              style=\"display:none;\">\n",
              "        \n",
              "  <svg xmlns=\"http://www.w3.org/2000/svg\" height=\"24px\"viewBox=\"0 0 24 24\"\n",
              "       width=\"24px\">\n",
              "    <path d=\"M0 0h24v24H0V0z\" fill=\"none\"/>\n",
              "    <path d=\"M18.56 5.44l.94 2.06.94-2.06 2.06-.94-2.06-.94-.94-2.06-.94 2.06-2.06.94zm-11 1L8.5 8.5l.94-2.06 2.06-.94-2.06-.94L8.5 2.5l-.94 2.06-2.06.94zm10 10l.94 2.06.94-2.06 2.06-.94-2.06-.94-.94-2.06-.94 2.06-2.06.94z\"/><path d=\"M17.41 7.96l-1.37-1.37c-.4-.4-.92-.59-1.43-.59-.52 0-1.04.2-1.43.59L10.3 9.45l-7.72 7.72c-.78.78-.78 2.05 0 2.83L4 21.41c.39.39.9.59 1.41.59.51 0 1.02-.2 1.41-.59l7.78-7.78 2.81-2.81c.8-.78.8-2.07 0-2.86zM5.41 20L4 18.59l7.72-7.72 1.47 1.35L5.41 20z\"/>\n",
              "  </svg>\n",
              "      </button>\n",
              "      \n",
              "  <style>\n",
              "    .colab-df-container {\n",
              "      display:flex;\n",
              "      flex-wrap:wrap;\n",
              "      gap: 12px;\n",
              "    }\n",
              "\n",
              "    .colab-df-convert {\n",
              "      background-color: #E8F0FE;\n",
              "      border: none;\n",
              "      border-radius: 50%;\n",
              "      cursor: pointer;\n",
              "      display: none;\n",
              "      fill: #1967D2;\n",
              "      height: 32px;\n",
              "      padding: 0 0 0 0;\n",
              "      width: 32px;\n",
              "    }\n",
              "\n",
              "    .colab-df-convert:hover {\n",
              "      background-color: #E2EBFA;\n",
              "      box-shadow: 0px 1px 2px rgba(60, 64, 67, 0.3), 0px 1px 3px 1px rgba(60, 64, 67, 0.15);\n",
              "      fill: #174EA6;\n",
              "    }\n",
              "\n",
              "    [theme=dark] .colab-df-convert {\n",
              "      background-color: #3B4455;\n",
              "      fill: #D2E3FC;\n",
              "    }\n",
              "\n",
              "    [theme=dark] .colab-df-convert:hover {\n",
              "      background-color: #434B5C;\n",
              "      box-shadow: 0px 1px 3px 1px rgba(0, 0, 0, 0.15);\n",
              "      filter: drop-shadow(0px 1px 2px rgba(0, 0, 0, 0.3));\n",
              "      fill: #FFFFFF;\n",
              "    }\n",
              "  </style>\n",
              "\n",
              "      <script>\n",
              "        const buttonEl =\n",
              "          document.querySelector('#df-b1ae9566-d439-4cd2-9c58-365045993ae4 button.colab-df-convert');\n",
              "        buttonEl.style.display =\n",
              "          google.colab.kernel.accessAllowed ? 'block' : 'none';\n",
              "\n",
              "        async function convertToInteractive(key) {\n",
              "          const element = document.querySelector('#df-b1ae9566-d439-4cd2-9c58-365045993ae4');\n",
              "          const dataTable =\n",
              "            await google.colab.kernel.invokeFunction('convertToInteractive',\n",
              "                                                     [key], {});\n",
              "          if (!dataTable) return;\n",
              "\n",
              "          const docLinkHtml = 'Like what you see? Visit the ' +\n",
              "            '<a target=\"_blank\" href=https://colab.research.google.com/notebooks/data_table.ipynb>data table notebook</a>'\n",
              "            + ' to learn more about interactive tables.';\n",
              "          element.innerHTML = '';\n",
              "          dataTable['output_type'] = 'display_data';\n",
              "          await google.colab.output.renderOutput(dataTable, element);\n",
              "          const docLink = document.createElement('div');\n",
              "          docLink.innerHTML = docLinkHtml;\n",
              "          element.appendChild(docLink);\n",
              "        }\n",
              "      </script>\n",
              "    </div>\n",
              "  </div>\n",
              "  "
            ]
          },
          "metadata": {},
          "execution_count": 9
        }
      ],
      "source": [
        "experimento"
      ]
    },
    {
      "cell_type": "markdown",
      "metadata": {
        "id": "t-NydpATktcg"
      },
      "source": [
        "### Inserindo coluna com os resultados "
      ]
    },
    {
      "cell_type": "code",
      "execution_count": 10,
      "metadata": {
        "id": "dIl-Lj9bktcg"
      },
      "outputs": [],
      "source": [
        "experimento['Porcoes'] = [19,37,24,49]"
      ]
    },
    {
      "cell_type": "code",
      "execution_count": 11,
      "metadata": {
        "id": "_O0cOKtAktcg",
        "colab": {
          "base_uri": "https://localhost:8080/",
          "height": 0
        },
        "outputId": "1e4f8b02-8971-45d1-b9e7-9c2ff8a58d58"
      },
      "outputs": [
        {
          "output_type": "execute_result",
          "data": {
            "text/plain": [
              "   Farinha  Chocolate  Porcoes\n",
              "0     -1.0       -1.0       19\n",
              "1      1.0       -1.0       37\n",
              "2     -1.0        1.0       24\n",
              "3      1.0        1.0       49"
            ],
            "text/html": [
              "\n",
              "  <div id=\"df-fc79730e-4dcc-4528-9bae-c506350809f8\">\n",
              "    <div class=\"colab-df-container\">\n",
              "      <div>\n",
              "<style scoped>\n",
              "    .dataframe tbody tr th:only-of-type {\n",
              "        vertical-align: middle;\n",
              "    }\n",
              "\n",
              "    .dataframe tbody tr th {\n",
              "        vertical-align: top;\n",
              "    }\n",
              "\n",
              "    .dataframe thead th {\n",
              "        text-align: right;\n",
              "    }\n",
              "</style>\n",
              "<table border=\"1\" class=\"dataframe\">\n",
              "  <thead>\n",
              "    <tr style=\"text-align: right;\">\n",
              "      <th></th>\n",
              "      <th>Farinha</th>\n",
              "      <th>Chocolate</th>\n",
              "      <th>Porcoes</th>\n",
              "    </tr>\n",
              "  </thead>\n",
              "  <tbody>\n",
              "    <tr>\n",
              "      <th>0</th>\n",
              "      <td>-1.0</td>\n",
              "      <td>-1.0</td>\n",
              "      <td>19</td>\n",
              "    </tr>\n",
              "    <tr>\n",
              "      <th>1</th>\n",
              "      <td>1.0</td>\n",
              "      <td>-1.0</td>\n",
              "      <td>37</td>\n",
              "    </tr>\n",
              "    <tr>\n",
              "      <th>2</th>\n",
              "      <td>-1.0</td>\n",
              "      <td>1.0</td>\n",
              "      <td>24</td>\n",
              "    </tr>\n",
              "    <tr>\n",
              "      <th>3</th>\n",
              "      <td>1.0</td>\n",
              "      <td>1.0</td>\n",
              "      <td>49</td>\n",
              "    </tr>\n",
              "  </tbody>\n",
              "</table>\n",
              "</div>\n",
              "      <button class=\"colab-df-convert\" onclick=\"convertToInteractive('df-fc79730e-4dcc-4528-9bae-c506350809f8')\"\n",
              "              title=\"Convert this dataframe to an interactive table.\"\n",
              "              style=\"display:none;\">\n",
              "        \n",
              "  <svg xmlns=\"http://www.w3.org/2000/svg\" height=\"24px\"viewBox=\"0 0 24 24\"\n",
              "       width=\"24px\">\n",
              "    <path d=\"M0 0h24v24H0V0z\" fill=\"none\"/>\n",
              "    <path d=\"M18.56 5.44l.94 2.06.94-2.06 2.06-.94-2.06-.94-.94-2.06-.94 2.06-2.06.94zm-11 1L8.5 8.5l.94-2.06 2.06-.94-2.06-.94L8.5 2.5l-.94 2.06-2.06.94zm10 10l.94 2.06.94-2.06 2.06-.94-2.06-.94-.94-2.06-.94 2.06-2.06.94z\"/><path d=\"M17.41 7.96l-1.37-1.37c-.4-.4-.92-.59-1.43-.59-.52 0-1.04.2-1.43.59L10.3 9.45l-7.72 7.72c-.78.78-.78 2.05 0 2.83L4 21.41c.39.39.9.59 1.41.59.51 0 1.02-.2 1.41-.59l7.78-7.78 2.81-2.81c.8-.78.8-2.07 0-2.86zM5.41 20L4 18.59l7.72-7.72 1.47 1.35L5.41 20z\"/>\n",
              "  </svg>\n",
              "      </button>\n",
              "      \n",
              "  <style>\n",
              "    .colab-df-container {\n",
              "      display:flex;\n",
              "      flex-wrap:wrap;\n",
              "      gap: 12px;\n",
              "    }\n",
              "\n",
              "    .colab-df-convert {\n",
              "      background-color: #E8F0FE;\n",
              "      border: none;\n",
              "      border-radius: 50%;\n",
              "      cursor: pointer;\n",
              "      display: none;\n",
              "      fill: #1967D2;\n",
              "      height: 32px;\n",
              "      padding: 0 0 0 0;\n",
              "      width: 32px;\n",
              "    }\n",
              "\n",
              "    .colab-df-convert:hover {\n",
              "      background-color: #E2EBFA;\n",
              "      box-shadow: 0px 1px 2px rgba(60, 64, 67, 0.3), 0px 1px 3px 1px rgba(60, 64, 67, 0.15);\n",
              "      fill: #174EA6;\n",
              "    }\n",
              "\n",
              "    [theme=dark] .colab-df-convert {\n",
              "      background-color: #3B4455;\n",
              "      fill: #D2E3FC;\n",
              "    }\n",
              "\n",
              "    [theme=dark] .colab-df-convert:hover {\n",
              "      background-color: #434B5C;\n",
              "      box-shadow: 0px 1px 3px 1px rgba(0, 0, 0, 0.15);\n",
              "      filter: drop-shadow(0px 1px 2px rgba(0, 0, 0, 0.3));\n",
              "      fill: #FFFFFF;\n",
              "    }\n",
              "  </style>\n",
              "\n",
              "      <script>\n",
              "        const buttonEl =\n",
              "          document.querySelector('#df-fc79730e-4dcc-4528-9bae-c506350809f8 button.colab-df-convert');\n",
              "        buttonEl.style.display =\n",
              "          google.colab.kernel.accessAllowed ? 'block' : 'none';\n",
              "\n",
              "        async function convertToInteractive(key) {\n",
              "          const element = document.querySelector('#df-fc79730e-4dcc-4528-9bae-c506350809f8');\n",
              "          const dataTable =\n",
              "            await google.colab.kernel.invokeFunction('convertToInteractive',\n",
              "                                                     [key], {});\n",
              "          if (!dataTable) return;\n",
              "\n",
              "          const docLinkHtml = 'Like what you see? Visit the ' +\n",
              "            '<a target=\"_blank\" href=https://colab.research.google.com/notebooks/data_table.ipynb>data table notebook</a>'\n",
              "            + ' to learn more about interactive tables.';\n",
              "          element.innerHTML = '';\n",
              "          dataTable['output_type'] = 'display_data';\n",
              "          await google.colab.output.renderOutput(dataTable, element);\n",
              "          const docLink = document.createElement('div');\n",
              "          docLink.innerHTML = docLinkHtml;\n",
              "          element.appendChild(docLink);\n",
              "        }\n",
              "      </script>\n",
              "    </div>\n",
              "  </div>\n",
              "  "
            ]
          },
          "metadata": {},
          "execution_count": 11
        }
      ],
      "source": [
        "experimento"
      ]
    },
    {
      "cell_type": "markdown",
      "metadata": {
        "id": "WaEw1Jfiktcg"
      },
      "source": [
        "<hr>\n",
        "<p style='font-size: 18px; line-height: 2; margin: 0px 0px; text-align: justify; text-indent: 0px;'>\n",
        "    <font color=\"MidnightBlue\"> <b>Conclusão:</b> Temos, por fim, nosso experimento representado por um <i>DataFrame</i> do Pandas. Usaremos este <i>DataFrame</i> para iniciarmos a análise do nosso experimento. \n",
        "    \n",
        "<hr>   "
      ]
    },
    {
      "cell_type": "markdown",
      "metadata": {
        "id": "N1h5mjSvktch"
      },
      "source": [
        "# <font color = 'purple'> Analisando graficamente o experimento   </font>\n",
        "\n",
        "\n",
        "<p style='margin: 30px 30px;'>\n",
        "    \n",
        "<hr style = 'border: 1px solid purple;'>"
      ]
    },
    {
      "cell_type": "markdown",
      "metadata": {
        "id": "HFzoNQv2ktch"
      },
      "source": [
        "###  Importando o Seaborn\n",
        "\n",
        "https://seaborn.pydata.org"
      ]
    },
    {
      "cell_type": "code",
      "execution_count": 12,
      "metadata": {
        "id": "71NbGdeCktch"
      },
      "outputs": [],
      "source": [
        "import seaborn as sns"
      ]
    },
    {
      "cell_type": "code",
      "execution_count": 13,
      "metadata": {
        "id": "AZJMH5uLktch"
      },
      "outputs": [],
      "source": [
        "# paletas -> Accent, Accent_r, Blues, Blues_r, BrBG, BrBG_r, BuGn, BuGn_r, BuPu, BuPu_r, CMRmap, CMRmap_r, Dark2, Dark2_r, GnBu, GnBu_r, Greens, Greens_r, Greys, Greys_r, OrRd, OrRd_r, Oranges, Oranges_r, PRGn, PRGn_r, Paired, Paired_r, Pastel1, Pastel1_r, Pastel2, Pastel2_r, PiYG, PiYG_r, PuBu, PuBuGn, PuBuGn_r, PuBu_r, PuOr, PuOr_r, PuRd, PuRd_r, Purples, Purples_r, RdBu, RdBu_r, RdGy, RdGy_r, RdPu, RdPu_r, RdYlBu, RdYlBu_r, RdYlGn, RdYlGn_r, Reds, Reds_r, Set1, Set1_r, Set2, Set2_r, Set3, Set3_r, Spectral, Spectral_r, Wistia, Wistia_r, YlGn, YlGnBu, YlGnBu_r, YlGn_r, YlOrBr, YlOrBr_r, YlOrRd, YlOrRd_r, afmhot, afmhot_r, autumn, autumn_r, binary, binary_r, bone, bone_r, brg, brg_r, bwr, bwr_r, cividis, cividis_r, cool, cool_r, coolwarm, coolwarm_r, copper, copper_r, cubehelix, cubehelix_r, flag, flag_r, gist_earth, gist_earth_r, gist_gray, gist_gray_r, gist_heat, gist_heat_r, gist_ncar, gist_ncar_r, gist_rainbow, gist_rainbow_r, gist_stern, gist_stern_r, gist_yarg, gist_yarg_r, gnuplot, gnuplot2, gnuplot2_r, gnuplot_r, gray, gray_r, hot, hot_r, hsv, hsv_r, icefire, icefire_r, inferno, inferno_r, jet, jet_r, magma, magma_r, mako, mako_r, nipy_spectral, nipy_spectral_r, ocean, ocean_r, pink, pink_r, plasma, plasma_r, prism, prism_r, rainbow, rainbow_r, rocket, rocket_r, seismic, seismic_r, spring, spring_r, summer, summer_r, tab10, tab10_r, tab20, tab20_r, tab20b, tab20b_r, tab20c, tab20c_r, terrain, terrain_r, viridis, viridis_r, vlag, vlag_r, winter, winter_r\n",
        "sns.set_palette('terrain')\n",
        "# estilo -> white, dark, whitegrid, darkgrid, ticks\n",
        "sns.set_style('darkgrid')"
      ]
    },
    {
      "cell_type": "markdown",
      "metadata": {
        "id": "rpYnWt2iktci"
      },
      "source": [
        "### Para a farinha"
      ]
    },
    {
      "cell_type": "code",
      "execution_count": 14,
      "metadata": {
        "id": "p7mYk1upktci",
        "colab": {
          "base_uri": "https://localhost:8080/",
          "height": 0
        },
        "outputId": "3564746f-df40-4b28-f44e-d3913ec6a1b8"
      },
      "outputs": [
        {
          "output_type": "execute_result",
          "data": {
            "text/plain": [
              "<seaborn.axisgrid.FacetGrid at 0x7fbe7c6a4310>"
            ]
          },
          "metadata": {},
          "execution_count": 14
        },
        {
          "output_type": "display_data",
          "data": {
            "text/plain": [
              "<Figure size 417.75x360 with 1 Axes>"
            ],
            "image/png": "[encoded data removed]"
          },
          "metadata": {}
        }
      ],
      "source": [
        "ax1 = sns.lmplot(data=experimento,x='Farinha',y='Porcoes', ci=None, hue='Chocolate')\n",
        "ax1.set(xticks= (-1,1))"
      ]
    },
    {
      "cell_type": "markdown",
      "metadata": {
        "id": "2PiCjEY2ktci"
      },
      "source": [
        "### Para o chocolate"
      ]
    },
    {
      "cell_type": "code",
      "execution_count": 15,
      "metadata": {
        "id": "BzSyPQbYktci",
        "colab": {
          "base_uri": "https://localhost:8080/",
          "height": 0
        },
        "outputId": "10f8ceaa-e198-4f18-8c80-3e4c79cf7400"
      },
      "outputs": [
        {
          "output_type": "execute_result",
          "data": {
            "text/plain": [
              "<seaborn.axisgrid.FacetGrid at 0x7fbe7964c390>"
            ]
          },
          "metadata": {},
          "execution_count": 15
        },
        {
          "output_type": "display_data",
          "data": {
            "text/plain": [
              "<Figure size 415.5x360 with 1 Axes>"
            ],
            "image/png": "[encoded data removed]"
          },
          "metadata": {}
        }
      ],
      "source": [
        "ax2 = sns.lmplot(data=experimento,x='Chocolate',y='Porcoes', ci=None, hue='Farinha')\n",
        "ax2.set(xticks= (-1,1))"
      ]
    },
    {
      "cell_type": "markdown",
      "metadata": {
        "id": "7njihwm1ktci"
      },
      "source": [
        "# <font color = 'purple'> Ajustando o modelo estatístico </font>\n",
        "\n",
        "\n",
        "<p style='margin: 30px 30px;'>\n",
        "    \n",
        "<hr style = 'border: 1px solid purple;'>"
      ]
    },
    {
      "cell_type": "markdown",
      "metadata": {
        "id": "SaD1HdOMktci"
      },
      "source": [
        "<hr>\n",
        "\n",
        "<img width='800px' src='https://github.com/OseiasBeu/StatisticsCourse/blob/main/Curso_Analise_de_Experimentos/figuras/Figura_3.png?raw=1'>\n",
        "\n",
        "<p style='margin: 30px 30px;'> \n",
        "\n",
        "<hr>\n"
      ]
    },
    {
      "cell_type": "markdown",
      "metadata": {
        "id": "N4W5qSoEktcj"
      },
      "source": [
        "### Bibliotecas  Stats Model\n"
      ]
    },
    {
      "cell_type": "code",
      "execution_count": 16,
      "metadata": {
        "id": "vNUEJOB-ktcj",
        "colab": {
          "base_uri": "https://localhost:8080/"
        },
        "outputId": "a7fd5bd9-5cd1-46a4-f2fd-d70f76690119"
      },
      "outputs": [
        {
          "output_type": "stream",
          "name": "stderr",
          "text": [
            "/usr/local/lib/python3.7/dist-packages/statsmodels/tools/_testing.py:19: FutureWarning: pandas.util.testing is deprecated. Use the functions in the public API at pandas.testing instead.\n",
            "  import pandas.util.testing as tm\n"
          ]
        }
      ],
      "source": [
        "import statsmodels.api as sm\n",
        "import statsmodels.formula.api as smf"
      ]
    },
    {
      "cell_type": "markdown",
      "metadata": {
        "id": "lPzh0ZRIktcj"
      },
      "source": [
        "### ."
      ]
    },
    {
      "cell_type": "code",
      "execution_count": 17,
      "metadata": {
        "id": "yOKEeqAaktcj"
      },
      "outputs": [],
      "source": [
        "modelo = smf.ols(data=experimento, formula='Porcoes ~ Farinha + Chocolate + Farinha:Chocolate')"
      ]
    },
    {
      "cell_type": "code",
      "execution_count": 18,
      "metadata": {
        "id": "V8wu4cNxktcj"
      },
      "outputs": [],
      "source": [
        "modelo_ajustado   = modelo.fit()"
      ]
    },
    {
      "cell_type": "code",
      "execution_count": 19,
      "metadata": {
        "id": "qxAElbt4ktck",
        "colab": {
          "base_uri": "https://localhost:8080/"
        },
        "outputId": "113c439f-982d-4c8c-a0e5-c0c91bc7c818"
      },
      "outputs": [
        {
          "output_type": "stream",
          "name": "stdout",
          "text": [
            "                            OLS Regression Results                            \n",
            "==============================================================================\n",
            "Dep. Variable:                Porcoes   R-squared:                       1.000\n",
            "Model:                            OLS   Adj. R-squared:                    nan\n",
            "Method:                 Least Squares   F-statistic:                       nan\n",
            "Date:                Wed, 29 Jun 2022   Prob (F-statistic):                nan\n",
            "Time:                        01:30:45   Log-Likelihood:                    inf\n",
            "No. Observations:                   4   AIC:                              -inf\n",
            "Df Residuals:                       0   BIC:                              -inf\n",
            "Df Model:                           3                                         \n",
            "Covariance Type:            nonrobust                                         \n",
            "=====================================================================================\n",
            "                        coef    std err          t      P>|t|      [0.025      0.975]\n",
            "-------------------------------------------------------------------------------------\n",
            "Intercept            32.2500        nan        nan        nan         nan         nan\n",
            "Farinha              10.7500        nan        nan        nan         nan         nan\n",
            "Chocolate             4.2500        nan        nan        nan         nan         nan\n",
            "Farinha:Chocolate     1.7500        nan        nan        nan         nan         nan\n",
            "==============================================================================\n",
            "Omnibus:                          nan   Durbin-Watson:                     nan\n",
            "Prob(Omnibus):                    nan   Jarque-Bera (JB):                1.500\n",
            "Skew:                           0.000   Prob(JB):                        0.472\n",
            "Kurtosis:                       0.000   Cond. No.                         1.00\n",
            "==============================================================================\n",
            "\n",
            "Warnings:\n",
            "[1] Standard Errors assume that the covariance matrix of the errors is correctly specified.\n"
          ]
        },
        {
          "output_type": "stream",
          "name": "stderr",
          "text": [
            "/usr/local/lib/python3.7/dist-packages/statsmodels/stats/stattools.py:71: ValueWarning: omni_normtest is not valid with less than 8 observations; 4 samples were given.\n",
            "  \"samples were given.\" % int(n), ValueWarning)\n",
            "/usr/local/lib/python3.7/dist-packages/statsmodels/regression/linear_model.py:1648: RuntimeWarning: divide by zero encountered in true_divide\n",
            "  return 1 - (np.divide(self.nobs - self.k_constant, self.df_resid)\n",
            "/usr/local/lib/python3.7/dist-packages/statsmodels/regression/linear_model.py:1649: RuntimeWarning: invalid value encountered in double_scalars\n",
            "  * (1 - self.rsquared))\n",
            "/usr/local/lib/python3.7/dist-packages/statsmodels/regression/linear_model.py:1665: RuntimeWarning: invalid value encountered in double_scalars\n",
            "  return self.ssr/self.df_resid\n",
            "/usr/local/lib/python3.7/dist-packages/statsmodels/regression/linear_model.py:867: RuntimeWarning: divide by zero encountered in log\n",
            "  llf = -nobs2*np.log(2*np.pi) - nobs2*np.log(ssr / nobs) - nobs2\n",
            "/usr/local/lib/python3.7/dist-packages/statsmodels/stats/stattools.py:46: RuntimeWarning: invalid value encountered in double_scalars\n",
            "  dw = np.sum(diff_resids**2, axis=axis) / np.sum(resids**2, axis=axis)\n",
            "/usr/local/lib/python3.7/dist-packages/statsmodels/regression/linear_model.py:1578: RuntimeWarning: invalid value encountered in double_scalars\n",
            "  return np.dot(wresid, wresid) / self.df_resid\n"
          ]
        }
      ],
      "source": [
        "print(modelo_ajustado.summary())"
      ]
    },
    {
      "cell_type": "markdown",
      "metadata": {
        "id": "B0YvsDf0ktck"
      },
      "source": [
        "# <font color = 'purple'> Aumentando os Graus de liberdade  </font>\n",
        "\n",
        "\n",
        "<p style='margin: 30px 30px;'>\n",
        "    \n",
        "<hr style = 'border: 1px solid purple;'>\n",
        "\n",
        "\n",
        "\n",
        "<p style='margin: 30px 30px;'>     \n",
        "    \n"
      ]
    },
    {
      "cell_type": "markdown",
      "metadata": {
        "id": "wcYtYsIyktck"
      },
      "source": [
        "<hr>\n",
        "\n",
        "\n",
        "<p style='font-size: 18px; line-height: 2; margin: 0px 0px; text-align: justify; text-indent: 0px;'>\n",
        "    <font color=\"red\"> <b>Replicatas no centro</b>\n",
        "\n",
        "\n",
        "<img width='800px' src='https://github.com/OseiasBeu/StatisticsCourse/blob/main/Curso_Analise_de_Experimentos/figuras/Figura_5.png?raw=1'> \n",
        "\n",
        "\n",
        "<p style='margin: 30px 30px;'> \n",
        "    \n",
        "    \n",
        " \n",
        "    \n",
        "\n",
        "    \n",
        "<hr>    "
      ]
    },
    {
      "cell_type": "code",
      "execution_count": 21,
      "metadata": {
        "id": "DhWD_pKCktck"
      },
      "outputs": [],
      "source": [
        "centro = np.array([[0,0,29],\n",
        "                  [0,0,30],\n",
        "                  [0,0,29],\n",
        "                  [0,0,30]])"
      ]
    },
    {
      "cell_type": "code",
      "execution_count": 22,
      "metadata": {
        "id": "9-gyYdYSktck"
      },
      "outputs": [],
      "source": [
        "centro_dataframe = pd.DataFrame(centro,columns=['Farinha','Chocolate','Porcoes'], index=[4,5,6,7])"
      ]
    },
    {
      "cell_type": "code",
      "execution_count": 23,
      "metadata": {
        "id": "UW2Vpqi2ktck",
        "colab": {
          "base_uri": "https://localhost:8080/",
          "height": 175
        },
        "outputId": "93877a87-1e03-4486-ad39-8a6d886e7bcc"
      },
      "outputs": [
        {
          "output_type": "execute_result",
          "data": {
            "text/plain": [
              "   Farinha  Chocolate  Porcoes\n",
              "4        0          0       29\n",
              "5        0          0       30\n",
              "6        0          0       29\n",
              "7        0          0       30"
            ],
            "text/html": [
              "\n",
              "  <div id=\"df-c114a260-07bf-43a2-90a5-4c653fbf1366\">\n",
              "    <div class=\"colab-df-container\">\n",
              "      <div>\n",
              "<style scoped>\n",
              "    .dataframe tbody tr th:only-of-type {\n",
              "        vertical-align: middle;\n",
              "    }\n",
              "\n",
              "    .dataframe tbody tr th {\n",
              "        vertical-align: top;\n",
              "    }\n",
              "\n",
              "    .dataframe thead th {\n",
              "        text-align: right;\n",
              "    }\n",
              "</style>\n",
              "<table border=\"1\" class=\"dataframe\">\n",
              "  <thead>\n",
              "    <tr style=\"text-align: right;\">\n",
              "      <th></th>\n",
              "      <th>Farinha</th>\n",
              "      <th>Chocolate</th>\n",
              "      <th>Porcoes</th>\n",
              "    </tr>\n",
              "  </thead>\n",
              "  <tbody>\n",
              "    <tr>\n",
              "      <th>4</th>\n",
              "      <td>0</td>\n",
              "      <td>0</td>\n",
              "      <td>29</td>\n",
              "    </tr>\n",
              "    <tr>\n",
              "      <th>5</th>\n",
              "      <td>0</td>\n",
              "      <td>0</td>\n",
              "      <td>30</td>\n",
              "    </tr>\n",
              "    <tr>\n",
              "      <th>6</th>\n",
              "      <td>0</td>\n",
              "      <td>0</td>\n",
              "      <td>29</td>\n",
              "    </tr>\n",
              "    <tr>\n",
              "      <th>7</th>\n",
              "      <td>0</td>\n",
              "      <td>0</td>\n",
              "      <td>30</td>\n",
              "    </tr>\n",
              "  </tbody>\n",
              "</table>\n",
              "</div>\n",
              "      <button class=\"colab-df-convert\" onclick=\"convertToInteractive('df-c114a260-07bf-43a2-90a5-4c653fbf1366')\"\n",
              "              title=\"Convert this dataframe to an interactive table.\"\n",
              "              style=\"display:none;\">\n",
              "        \n",
              "  <svg xmlns=\"http://www.w3.org/2000/svg\" height=\"24px\"viewBox=\"0 0 24 24\"\n",
              "       width=\"24px\">\n",
              "    <path d=\"M0 0h24v24H0V0z\" fill=\"none\"/>\n",
              "    <path d=\"M18.56 5.44l.94 2.06.94-2.06 2.06-.94-2.06-.94-.94-2.06-.94 2.06-2.06.94zm-11 1L8.5 8.5l.94-2.06 2.06-.94-2.06-.94L8.5 2.5l-.94 2.06-2.06.94zm10 10l.94 2.06.94-2.06 2.06-.94-2.06-.94-.94-2.06-.94 2.06-2.06.94z\"/><path d=\"M17.41 7.96l-1.37-1.37c-.4-.4-.92-.59-1.43-.59-.52 0-1.04.2-1.43.59L10.3 9.45l-7.72 7.72c-.78.78-.78 2.05 0 2.83L4 21.41c.39.39.9.59 1.41.59.51 0 1.02-.2 1.41-.59l7.78-7.78 2.81-2.81c.8-.78.8-2.07 0-2.86zM5.41 20L4 18.59l7.72-7.72 1.47 1.35L5.41 20z\"/>\n",
              "  </svg>\n",
              "      </button>\n",
              "      \n",
              "  <style>\n",
              "    .colab-df-container {\n",
              "      display:flex;\n",
              "      flex-wrap:wrap;\n",
              "      gap: 12px;\n",
              "    }\n",
              "\n",
              "    .colab-df-convert {\n",
              "      background-color: #E8F0FE;\n",
              "      border: none;\n",
              "      border-radius: 50%;\n",
              "      cursor: pointer;\n",
              "      display: none;\n",
              "      fill: #1967D2;\n",
              "      height: 32px;\n",
              "      padding: 0 0 0 0;\n",
              "      width: 32px;\n",
              "    }\n",
              "\n",
              "    .colab-df-convert:hover {\n",
              "      background-color: #E2EBFA;\n",
              "      box-shadow: 0px 1px 2px rgba(60, 64, 67, 0.3), 0px 1px 3px 1px rgba(60, 64, 67, 0.15);\n",
              "      fill: #174EA6;\n",
              "    }\n",
              "\n",
              "    [theme=dark] .colab-df-convert {\n",
              "      background-color: #3B4455;\n",
              "      fill: #D2E3FC;\n",
              "    }\n",
              "\n",
              "    [theme=dark] .colab-df-convert:hover {\n",
              "      background-color: #434B5C;\n",
              "      box-shadow: 0px 1px 3px 1px rgba(0, 0, 0, 0.15);\n",
              "      filter: drop-shadow(0px 1px 2px rgba(0, 0, 0, 0.3));\n",
              "      fill: #FFFFFF;\n",
              "    }\n",
              "  </style>\n",
              "\n",
              "      <script>\n",
              "        const buttonEl =\n",
              "          document.querySelector('#df-c114a260-07bf-43a2-90a5-4c653fbf1366 button.colab-df-convert');\n",
              "        buttonEl.style.display =\n",
              "          google.colab.kernel.accessAllowed ? 'block' : 'none';\n",
              "\n",
              "        async function convertToInteractive(key) {\n",
              "          const element = document.querySelector('#df-c114a260-07bf-43a2-90a5-4c653fbf1366');\n",
              "          const dataTable =\n",
              "            await google.colab.kernel.invokeFunction('convertToInteractive',\n",
              "                                                     [key], {});\n",
              "          if (!dataTable) return;\n",
              "\n",
              "          const docLinkHtml = 'Like what you see? Visit the ' +\n",
              "            '<a target=\"_blank\" href=https://colab.research.google.com/notebooks/data_table.ipynb>data table notebook</a>'\n",
              "            + ' to learn more about interactive tables.';\n",
              "          element.innerHTML = '';\n",
              "          dataTable['output_type'] = 'display_data';\n",
              "          await google.colab.output.renderOutput(dataTable, element);\n",
              "          const docLink = document.createElement('div');\n",
              "          docLink.innerHTML = docLinkHtml;\n",
              "          element.appendChild(docLink);\n",
              "        }\n",
              "      </script>\n",
              "    </div>\n",
              "  </div>\n",
              "  "
            ]
          },
          "metadata": {},
          "execution_count": 23
        }
      ],
      "source": [
        "centro_dataframe"
      ]
    },
    {
      "cell_type": "markdown",
      "metadata": {
        "id": "Ry3iYZLNktcl"
      },
      "source": [
        "### ."
      ]
    },
    {
      "cell_type": "code",
      "execution_count": 25,
      "metadata": {
        "id": "W4qCVjUZktcl"
      },
      "outputs": [],
      "source": [
        "experimento =  experimento.append(centro_dataframe)"
      ]
    },
    {
      "cell_type": "code",
      "execution_count": 26,
      "metadata": {
        "id": "OQAF_Tfpktcl",
        "colab": {
          "base_uri": "https://localhost:8080/",
          "height": 300
        },
        "outputId": "48d020d4-00f6-44eb-c57c-f5b628cdea33"
      },
      "outputs": [
        {
          "output_type": "execute_result",
          "data": {
            "text/plain": [
              "   Farinha  Chocolate  Porcoes\n",
              "0     -1.0       -1.0       19\n",
              "1      1.0       -1.0       37\n",
              "2     -1.0        1.0       24\n",
              "3      1.0        1.0       49\n",
              "4      0.0        0.0       29\n",
              "5      0.0        0.0       30\n",
              "6      0.0        0.0       29\n",
              "7      0.0        0.0       30"
            ],
            "text/html": [
              "\n",
              "  <div id=\"df-e66678ac-7d50-4503-875a-f7a717b698ba\">\n",
              "    <div class=\"colab-df-container\">\n",
              "      <div>\n",
              "<style scoped>\n",
              "    .dataframe tbody tr th:only-of-type {\n",
              "        vertical-align: middle;\n",
              "    }\n",
              "\n",
              "    .dataframe tbody tr th {\n",
              "        vertical-align: top;\n",
              "    }\n",
              "\n",
              "    .dataframe thead th {\n",
              "        text-align: right;\n",
              "    }\n",
              "</style>\n",
              "<table border=\"1\" class=\"dataframe\">\n",
              "  <thead>\n",
              "    <tr style=\"text-align: right;\">\n",
              "      <th></th>\n",
              "      <th>Farinha</th>\n",
              "      <th>Chocolate</th>\n",
              "      <th>Porcoes</th>\n",
              "    </tr>\n",
              "  </thead>\n",
              "  <tbody>\n",
              "    <tr>\n",
              "      <th>0</th>\n",
              "      <td>-1.0</td>\n",
              "      <td>-1.0</td>\n",
              "      <td>19</td>\n",
              "    </tr>\n",
              "    <tr>\n",
              "      <th>1</th>\n",
              "      <td>1.0</td>\n",
              "      <td>-1.0</td>\n",
              "      <td>37</td>\n",
              "    </tr>\n",
              "    <tr>\n",
              "      <th>2</th>\n",
              "      <td>-1.0</td>\n",
              "      <td>1.0</td>\n",
              "      <td>24</td>\n",
              "    </tr>\n",
              "    <tr>\n",
              "      <th>3</th>\n",
              "      <td>1.0</td>\n",
              "      <td>1.0</td>\n",
              "      <td>49</td>\n",
              "    </tr>\n",
              "    <tr>\n",
              "      <th>4</th>\n",
              "      <td>0.0</td>\n",
              "      <td>0.0</td>\n",
              "      <td>29</td>\n",
              "    </tr>\n",
              "    <tr>\n",
              "      <th>5</th>\n",
              "      <td>0.0</td>\n",
              "      <td>0.0</td>\n",
              "      <td>30</td>\n",
              "    </tr>\n",
              "    <tr>\n",
              "      <th>6</th>\n",
              "      <td>0.0</td>\n",
              "      <td>0.0</td>\n",
              "      <td>29</td>\n",
              "    </tr>\n",
              "    <tr>\n",
              "      <th>7</th>\n",
              "      <td>0.0</td>\n",
              "      <td>0.0</td>\n",
              "      <td>30</td>\n",
              "    </tr>\n",
              "  </tbody>\n",
              "</table>\n",
              "</div>\n",
              "      <button class=\"colab-df-convert\" onclick=\"convertToInteractive('df-e66678ac-7d50-4503-875a-f7a717b698ba')\"\n",
              "              title=\"Convert this dataframe to an interactive table.\"\n",
              "              style=\"display:none;\">\n",
              "        \n",
              "  <svg xmlns=\"http://www.w3.org/2000/svg\" height=\"24px\"viewBox=\"0 0 24 24\"\n",
              "       width=\"24px\">\n",
              "    <path d=\"M0 0h24v24H0V0z\" fill=\"none\"/>\n",
              "    <path d=\"M18.56 5.44l.94 2.06.94-2.06 2.06-.94-2.06-.94-.94-2.06-.94 2.06-2.06.94zm-11 1L8.5 8.5l.94-2.06 2.06-.94-2.06-.94L8.5 2.5l-.94 2.06-2.06.94zm10 10l.94 2.06.94-2.06 2.06-.94-2.06-.94-.94-2.06-.94 2.06-2.06.94z\"/><path d=\"M17.41 7.96l-1.37-1.37c-.4-.4-.92-.59-1.43-.59-.52 0-1.04.2-1.43.59L10.3 9.45l-7.72 7.72c-.78.78-.78 2.05 0 2.83L4 21.41c.39.39.9.59 1.41.59.51 0 1.02-.2 1.41-.59l7.78-7.78 2.81-2.81c.8-.78.8-2.07 0-2.86zM5.41 20L4 18.59l7.72-7.72 1.47 1.35L5.41 20z\"/>\n",
              "  </svg>\n",
              "      </button>\n",
              "      \n",
              "  <style>\n",
              "    .colab-df-container {\n",
              "      display:flex;\n",
              "      flex-wrap:wrap;\n",
              "      gap: 12px;\n",
              "    }\n",
              "\n",
              "    .colab-df-convert {\n",
              "      background-color: #E8F0FE;\n",
              "      border: none;\n",
              "      border-radius: 50%;\n",
              "      cursor: pointer;\n",
              "      display: none;\n",
              "      fill: #1967D2;\n",
              "      height: 32px;\n",
              "      padding: 0 0 0 0;\n",
              "      width: 32px;\n",
              "    }\n",
              "\n",
              "    .colab-df-convert:hover {\n",
              "      background-color: #E2EBFA;\n",
              "      box-shadow: 0px 1px 2px rgba(60, 64, 67, 0.3), 0px 1px 3px 1px rgba(60, 64, 67, 0.15);\n",
              "      fill: #174EA6;\n",
              "    }\n",
              "\n",
              "    [theme=dark] .colab-df-convert {\n",
              "      background-color: #3B4455;\n",
              "      fill: #D2E3FC;\n",
              "    }\n",
              "\n",
              "    [theme=dark] .colab-df-convert:hover {\n",
              "      background-color: #434B5C;\n",
              "      box-shadow: 0px 1px 3px 1px rgba(0, 0, 0, 0.15);\n",
              "      filter: drop-shadow(0px 1px 2px rgba(0, 0, 0, 0.3));\n",
              "      fill: #FFFFFF;\n",
              "    }\n",
              "  </style>\n",
              "\n",
              "      <script>\n",
              "        const buttonEl =\n",
              "          document.querySelector('#df-e66678ac-7d50-4503-875a-f7a717b698ba button.colab-df-convert');\n",
              "        buttonEl.style.display =\n",
              "          google.colab.kernel.accessAllowed ? 'block' : 'none';\n",
              "\n",
              "        async function convertToInteractive(key) {\n",
              "          const element = document.querySelector('#df-e66678ac-7d50-4503-875a-f7a717b698ba');\n",
              "          const dataTable =\n",
              "            await google.colab.kernel.invokeFunction('convertToInteractive',\n",
              "                                                     [key], {});\n",
              "          if (!dataTable) return;\n",
              "\n",
              "          const docLinkHtml = 'Like what you see? Visit the ' +\n",
              "            '<a target=\"_blank\" href=https://colab.research.google.com/notebooks/data_table.ipynb>data table notebook</a>'\n",
              "            + ' to learn more about interactive tables.';\n",
              "          element.innerHTML = '';\n",
              "          dataTable['output_type'] = 'display_data';\n",
              "          await google.colab.output.renderOutput(dataTable, element);\n",
              "          const docLink = document.createElement('div');\n",
              "          docLink.innerHTML = docLinkHtml;\n",
              "          element.appendChild(docLink);\n",
              "        }\n",
              "      </script>\n",
              "    </div>\n",
              "  </div>\n",
              "  "
            ]
          },
          "metadata": {},
          "execution_count": 26
        }
      ],
      "source": [
        "experimento"
      ]
    },
    {
      "cell_type": "markdown",
      "metadata": {
        "id": "VWo8wShpktcl"
      },
      "source": [
        "# <font color = 'purple'>  Análise de significância estatística   </font>\n",
        "\n",
        "\n",
        "<p style='margin: 30px 30px;'>\n",
        "    \n",
        "<hr style = 'border: 1px solid purple;'>"
      ]
    },
    {
      "cell_type": "code",
      "execution_count": 27,
      "metadata": {
        "id": "x9w8o8wEktcl"
      },
      "outputs": [],
      "source": [
        "modelo = smf.ols(data=experimento,formula='Porcoes ~Farinha + Chocolate + Farinha:Chocolate')"
      ]
    },
    {
      "cell_type": "code",
      "execution_count": 28,
      "metadata": {
        "id": "GrnHoSmIktcl"
      },
      "outputs": [],
      "source": [
        "modelo_ajustado = modelo.fit()"
      ]
    },
    {
      "cell_type": "code",
      "execution_count": 29,
      "metadata": {
        "id": "3MrtcRmXktcm",
        "colab": {
          "base_uri": "https://localhost:8080/"
        },
        "outputId": "70043dbd-b115-4958-8921-7cad09c78171"
      },
      "outputs": [
        {
          "output_type": "stream",
          "name": "stdout",
          "text": [
            "                            OLS Regression Results                            \n",
            "==============================================================================\n",
            "Dep. Variable:                Porcoes   R-squared:                       0.971\n",
            "Model:                            OLS   Adj. R-squared:                  0.950\n",
            "Method:                 Least Squares   F-statistic:                     45.21\n",
            "Date:                Wed, 29 Jun 2022   Prob (F-statistic):            0.00152\n",
            "Time:                        01:47:19   Log-Likelihood:                -14.155\n",
            "No. Observations:                   8   AIC:                             36.31\n",
            "Df Residuals:                       4   BIC:                             36.63\n",
            "Df Model:                           3                                         \n",
            "Covariance Type:            nonrobust                                         \n",
            "=====================================================================================\n",
            "                        coef    std err          t      P>|t|      [0.025      0.975]\n",
            "-------------------------------------------------------------------------------------\n",
            "Intercept            30.8750      0.710     43.494      0.000      28.904      32.846\n",
            "Farinha              10.7500      1.004     10.708      0.000       7.963      13.537\n",
            "Chocolate             4.2500      1.004      4.233      0.013       1.463       7.037\n",
            "Farinha:Chocolate     1.7500      1.004      1.743      0.156      -1.037       4.537\n",
            "==============================================================================\n",
            "Omnibus:                        4.655   Durbin-Watson:                   0.841\n",
            "Prob(Omnibus):                  0.098   Jarque-Bera (JB):                1.080\n",
            "Skew:                          -0.180   Prob(JB):                        0.583\n",
            "Kurtosis:                       1.237   Cond. No.                         1.41\n",
            "==============================================================================\n",
            "\n",
            "Warnings:\n",
            "[1] Standard Errors assume that the covariance matrix of the errors is correctly specified.\n"
          ]
        },
        {
          "output_type": "stream",
          "name": "stderr",
          "text": [
            "/usr/local/lib/python3.7/dist-packages/scipy/stats/stats.py:1535: UserWarning: kurtosistest only valid for n>=20 ... continuing anyway, n=8\n",
            "  \"anyway, n=%i\" % int(n))\n"
          ]
        }
      ],
      "source": [
        "print(modelo_ajustado.summary())"
      ]
    },
    {
      "cell_type": "markdown",
      "metadata": {
        "id": "HjomMvJoktcm"
      },
      "source": [
        "<p style='margin: 200px 200px;'>    \n",
        "\n",
        "\n",
        "<hr>\n",
        "\n",
        "\n",
        "    \n",
        " <img width='400px' src='https://github.com/OseiasBeu/StatisticsCourse/blob/main/Curso_Analise_de_Experimentos/figuras/Figura_6.png?raw=1'> \n",
        "\n",
        "\n",
        "<p style='margin: 30px 30px;'>    \n",
        "\n",
        "<hr>\n",
        "\n",
        "\n",
        " <img width='600px' src='https://github.com/OseiasBeu/StatisticsCourse/blob/main/Curso_Analise_de_Experimentos/figuras/Figura_7.png?raw=1'> \n",
        "\n",
        "\n",
        "<p style='margin: 30px 30px;'>        \n",
        "    \n",
        "    \n",
        " <hr>   \n",
        "    \n",
        "\n",
        "  \n",
        " <img width='600px' src='https://github.com/OseiasBeu/StatisticsCourse/blob/main/Curso_Analise_de_Experimentos/figuras/Figura_10.png?raw=1'> \n",
        "\n",
        "\n",
        "<p style='margin: 30px 30px;'>       \n",
        "  \n",
        "<hr>        "
      ]
    },
    {
      "cell_type": "markdown",
      "metadata": {
        "id": "4kWjjJu5ktcm"
      },
      "source": [
        "\n",
        "# <font color = 'purple'> Teste de significância estatística usando o <b>t<b>    </font>\n",
        "\n",
        "\n",
        "<p style='margin: 30px 30px;'>\n",
        "    \n",
        "<hr style = 'border: 1px solid purple;'>\n",
        "\n",
        "\n",
        "\n"
      ]
    },
    {
      "cell_type": "markdown",
      "metadata": {
        "id": "R0XTdi_1ktcp"
      },
      "source": [
        "<hr>\n",
        "<img width='600px' src='https://github.com/OseiasBeu/StatisticsCourse/blob/main/Curso_Analise_de_Experimentos/figuras/Figura_11.png?raw=1'> \n",
        "\n",
        "\n",
        "<hr>\n",
        "  <p style='margin: 30px 30px;'>     \n",
        "<img width='900px' src='https://github.com/OseiasBeu/StatisticsCourse/blob/main/Curso_Analise_de_Experimentos/figuras/Figura_8.png?raw=1'> \n",
        "\n",
        "\n",
        "<hr>\n",
        "\n"
      ]
    },
    {
      "cell_type": "markdown",
      "metadata": {
        "id": "QG7yfECektcp"
      },
      "source": [
        "<p style='margin: 150px 150px;'>     \n",
        "<img width='1000px' src='https://github.com/OseiasBeu/StatisticsCourse/blob/main/Curso_Analise_de_Experimentos/figuras/Figura_20.png?raw=1'\n",
        "\n",
        "\n",
        "\n",
        "<hr>\n",
        "<p style='margin: 150px 150px;'>    "
      ]
    },
    {
      "cell_type": "code",
      "execution_count": 30,
      "metadata": {
        "id": "dpwvyrKGktcp"
      },
      "outputs": [],
      "source": [
        "t_valores = modelo_ajustado.tvalues"
      ]
    },
    {
      "cell_type": "code",
      "execution_count": 31,
      "metadata": {
        "id": "-JRjob78ktcp",
        "colab": {
          "base_uri": "https://localhost:8080/"
        },
        "outputId": "ab41de25-6761-47b3-ec6a-ff7bea15be43"
      },
      "outputs": [
        {
          "output_type": "execute_result",
          "data": {
            "text/plain": [
              "Intercept            43.494275\n",
              "Farinha              10.708252\n",
              "Chocolate             4.233495\n",
              "Farinha:Chocolate     1.743204\n",
              "dtype: float64"
            ]
          },
          "metadata": {},
          "execution_count": 31
        }
      ],
      "source": [
        "t_valores"
      ]
    },
    {
      "cell_type": "code",
      "execution_count": 32,
      "metadata": {
        "id": "hQKHNlOhktcq"
      },
      "outputs": [],
      "source": [
        "nome = t_valores.index.tolist()"
      ]
    },
    {
      "cell_type": "code",
      "execution_count": 33,
      "metadata": {
        "id": "cTGCm4Hnktcq",
        "colab": {
          "base_uri": "https://localhost:8080/"
        },
        "outputId": "40af5463-d77d-46a5-dfce-68f4a16a2914"
      },
      "outputs": [
        {
          "output_type": "execute_result",
          "data": {
            "text/plain": [
              "['Intercept', 'Farinha', 'Chocolate', 'Farinha:Chocolate']"
            ]
          },
          "metadata": {},
          "execution_count": 33
        }
      ],
      "source": [
        "nome"
      ]
    },
    {
      "cell_type": "markdown",
      "metadata": {
        "id": "5U22Vp_hktcq"
      },
      "source": [
        "### ."
      ]
    },
    {
      "cell_type": "code",
      "execution_count": 37,
      "metadata": {
        "id": "QUQVy0uuktcq"
      },
      "outputs": [],
      "source": [
        "from scipy import stats"
      ]
    },
    {
      "cell_type": "markdown",
      "metadata": {
        "id": "VMNSnQO-ktcq"
      },
      "source": [
        "### .\n"
      ]
    },
    {
      "cell_type": "code",
      "execution_count": 38,
      "metadata": {
        "id": "7QNVWKgqktcq"
      },
      "outputs": [],
      "source": [
        "distribuicao = stats.t(df=4)"
      ]
    },
    {
      "cell_type": "code",
      "execution_count": 39,
      "metadata": {
        "id": "eqII5rwjktcq",
        "colab": {
          "base_uri": "https://localhost:8080/"
        },
        "outputId": "b46df278-b6c4-4f44-e7e7-6b92bf27dbb5"
      },
      "outputs": [
        {
          "output_type": "execute_result",
          "data": {
            "text/plain": [
              "2.7764451051977987"
            ]
          },
          "metadata": {},
          "execution_count": 39
        }
      ],
      "source": [
        "distribuicao.ppf(q=1-0.025)"
      ]
    },
    {
      "cell_type": "code",
      "execution_count": 41,
      "metadata": {
        "id": "uI5gaPZTktcq"
      },
      "outputs": [],
      "source": [
        "limite=[distribuicao.ppf(q=1-0.025)]*len(nome)"
      ]
    },
    {
      "cell_type": "code",
      "execution_count": 42,
      "metadata": {
        "id": "DZb1U3NOktcq",
        "colab": {
          "base_uri": "https://localhost:8080/"
        },
        "outputId": "8e230e0e-2af2-4e5a-bdae-756cb1c64433"
      },
      "outputs": [
        {
          "output_type": "execute_result",
          "data": {
            "text/plain": [
              "[2.7764451051977987,\n",
              " 2.7764451051977987,\n",
              " 2.7764451051977987,\n",
              " 2.7764451051977987]"
            ]
          },
          "metadata": {},
          "execution_count": 42
        }
      ],
      "source": [
        "limite"
      ]
    },
    {
      "cell_type": "markdown",
      "metadata": {
        "id": "SfpmnBHVktcq"
      },
      "source": [
        "### Plotando o gráfico "
      ]
    },
    {
      "cell_type": "code",
      "execution_count": 43,
      "metadata": {
        "id": "SFcPz4hNktcr",
        "colab": {
          "base_uri": "https://localhost:8080/",
          "height": 399
        },
        "outputId": "6c5d1ef7-7f9b-4964-d89a-ff9e9971c343"
      },
      "outputs": [
        {
          "output_type": "execute_result",
          "data": {
            "text/plain": [
              "[<matplotlib.lines.Line2D at 0x7fbe665a0b50>]"
            ]
          },
          "metadata": {},
          "execution_count": 43
        },
        {
          "output_type": "display_data",
          "data": {
            "text/plain": [
              "<Figure size 1080x432 with 1 Axes>"
            ],
            "image/png": "[encoded data removed]"
          },
          "metadata": {}
        }
      ],
      "source": [
        "pareto = sns.barplot(x=t_valores, y=nome)\n",
        "pareto.figure.set_size_inches(15,6)\n",
        "pareto.tick_params(labelsize=20)\n",
        "pareto.set_xlabel('t-valores',fontsize=20)\n",
        "\n",
        "pareto.plot(limite,nome,'r')"
      ]
    },
    {
      "cell_type": "markdown",
      "metadata": {
        "id": "LdYTHyH6ktcr"
      },
      "source": [
        "# <font color = 'purple'> Propondo um novo modelo   </font>\n",
        "\n",
        "\n",
        "<p style='margin: 30px 30px;'>\n",
        "    \n",
        "<hr style = 'border: 1px solid purple;'>\n"
      ]
    },
    {
      "cell_type": "markdown",
      "metadata": {
        "id": "zO63iCn0ktcr"
      },
      "source": [
        "<hr>\n",
        "\n",
        "<img width='800px' src='https://github.com/OseiasBeu/StatisticsCourse/blob/main/Curso_Analise_de_Experimentos/figuras/Figura_3.png?raw=1'>\n",
        "\n",
        "<p style='margin: 30px 30px;'> \n",
        "\n",
        "<hr>"
      ]
    },
    {
      "cell_type": "markdown",
      "metadata": {
        "id": "SasXXaaMktcr"
      },
      "source": [
        "<p style='margin: 200px 200px;'>\n",
        "\n",
        "\n",
        "<hr>\n",
        "\n",
        "<img width='600px' src='https://github.com/OseiasBeu/StatisticsCourse/blob/main/Curso_Analise_de_Experimentos/figuras/Figura_9.png?raw=1'> \n",
        "\n",
        "<p style='font-size: 18px; line-height: 2; margin: 0px 0px; text-align: justify; text-indent: 0px;'>\n",
        "\n",
        "\n",
        "<p style='margin: 30px 30px;'>\n",
        "\n",
        "    \n",
        "<hr>    \n"
      ]
    },
    {
      "cell_type": "code",
      "execution_count": 44,
      "metadata": {
        "id": "LDnakfs5ktcr"
      },
      "outputs": [],
      "source": [
        "modelo_2 = smf.ols(data=experimento,formula='Porcoes ~ Farinha + Chocolate')"
      ]
    },
    {
      "cell_type": "code",
      "execution_count": 45,
      "metadata": {
        "id": "JzFHdQetktcr"
      },
      "outputs": [],
      "source": [
        "modelo_ajustado_2 = modelo_2.fit()"
      ]
    },
    {
      "cell_type": "code",
      "execution_count": 46,
      "metadata": {
        "id": "HJZzpba3ktcr",
        "colab": {
          "base_uri": "https://localhost:8080/"
        },
        "outputId": "9ff74cb2-fa93-4f1c-9cc9-6d709f1d4829"
      },
      "outputs": [
        {
          "output_type": "stream",
          "name": "stdout",
          "text": [
            "                            OLS Regression Results                            \n",
            "==============================================================================\n",
            "Dep. Variable:                Porcoes   R-squared:                       0.950\n",
            "Model:                            OLS   Adj. R-squared:                  0.929\n",
            "Method:                 Least Squares   F-statistic:                     47.09\n",
            "Date:                Wed, 29 Jun 2022   Prob (F-statistic):           0.000571\n",
            "Time:                        02:09:30   Log-Likelihood:                -16.416\n",
            "No. Observations:                   8   AIC:                             38.83\n",
            "Df Residuals:                       5   BIC:                             39.07\n",
            "Df Model:                           2                                         \n",
            "Covariance Type:            nonrobust                                         \n",
            "==============================================================================\n",
            "                 coef    std err          t      P>|t|      [0.025      0.975]\n",
            "------------------------------------------------------------------------------\n",
            "Intercept     30.8750      0.842     36.658      0.000      28.710      33.040\n",
            "Farinha       10.7500      1.191      9.025      0.000       7.688      13.812\n",
            "Chocolate      4.2500      1.191      3.568      0.016       1.188       7.312\n",
            "==============================================================================\n",
            "Omnibus:                        2.106   Durbin-Watson:                   1.850\n",
            "Prob(Omnibus):                  0.349   Jarque-Bera (JB):                1.245\n",
            "Skew:                           0.868   Prob(JB):                        0.537\n",
            "Kurtosis:                       2.153   Cond. No.                         1.41\n",
            "==============================================================================\n",
            "\n",
            "Warnings:\n",
            "[1] Standard Errors assume that the covariance matrix of the errors is correctly specified.\n"
          ]
        },
        {
          "output_type": "stream",
          "name": "stderr",
          "text": [
            "/usr/local/lib/python3.7/dist-packages/scipy/stats/stats.py:1535: UserWarning: kurtosistest only valid for n>=20 ... continuing anyway, n=8\n",
            "  \"anyway, n=%i\" % int(n))\n"
          ]
        }
      ],
      "source": [
        "print(modelo_ajustado_2.summary())"
      ]
    },
    {
      "cell_type": "markdown",
      "metadata": {
        "id": "bcQ43Bipktcr"
      },
      "source": [
        "<hr>"
      ]
    },
    {
      "cell_type": "markdown",
      "metadata": {
        "id": "CXDyJG6Mktcs"
      },
      "source": [
        "# <font color = 'purple'> Gráfico Padronizado de Pareto do novo modelo    </font>\n",
        "\n",
        "\n",
        "<p style='margin: 30px 30px;'>\n",
        "    \n",
        "<hr style = 'border: 1px solid purple;'>\n"
      ]
    },
    {
      "cell_type": "code",
      "source": [
        "t_valores = modelo_ajustado_2.tvalues"
      ],
      "metadata": {
        "id": "tpkVHFp6Oy_c"
      },
      "execution_count": 47,
      "outputs": []
    },
    {
      "cell_type": "code",
      "source": [
        "t_valores"
      ],
      "metadata": {
        "colab": {
          "base_uri": "https://localhost:8080/"
        },
        "id": "4nP0xAUPO1Xz",
        "outputId": "b0a6b3b5-c5f2-4a32-9e80-9bf28228eaeb"
      },
      "execution_count": 48,
      "outputs": [
        {
          "output_type": "execute_result",
          "data": {
            "text/plain": [
              "Intercept    36.658022\n",
              "Farinha       9.025173\n",
              "Chocolate     3.568092\n",
              "dtype: float64"
            ]
          },
          "metadata": {},
          "execution_count": 48
        }
      ]
    },
    {
      "cell_type": "code",
      "source": [
        "nome = t_valores.index.tolist()\n",
        "nome"
      ],
      "metadata": {
        "colab": {
          "base_uri": "https://localhost:8080/"
        },
        "id": "wiKE9NjkO2yQ",
        "outputId": "4b29ac1d-d3a6-4a80-8739-37631097a6b6"
      },
      "execution_count": 49,
      "outputs": [
        {
          "output_type": "execute_result",
          "data": {
            "text/plain": [
              "['Intercept', 'Farinha', 'Chocolate']"
            ]
          },
          "metadata": {},
          "execution_count": 49
        }
      ]
    },
    {
      "cell_type": "markdown",
      "metadata": {
        "id": "UkemLO2Fktcs"
      },
      "source": [
        "### ."
      ]
    },
    {
      "cell_type": "code",
      "execution_count": 50,
      "metadata": {
        "id": "-kLWYFv-ktcs"
      },
      "outputs": [],
      "source": [
        "distribuicao = stats.t(df=5)"
      ]
    },
    {
      "cell_type": "code",
      "execution_count": 51,
      "metadata": {
        "id": "Z9owe3xqktcs",
        "colab": {
          "base_uri": "https://localhost:8080/"
        },
        "outputId": "c6ac66ef-d546-4630-9865-57378b3eec36"
      },
      "outputs": [
        {
          "output_type": "execute_result",
          "data": {
            "text/plain": [
              "2.5705818366147395"
            ]
          },
          "metadata": {},
          "execution_count": 51
        }
      ],
      "source": [
        "distribuicao.ppf(q=1-0.025)"
      ]
    },
    {
      "cell_type": "code",
      "execution_count": 52,
      "metadata": {
        "id": "mfn6HVTMktcs"
      },
      "outputs": [],
      "source": [
        "limite=[distribuicao.ppf(q=1-0.025)]*len(nome)"
      ]
    },
    {
      "cell_type": "markdown",
      "metadata": {
        "id": "WuZdeJ2Oktcs"
      },
      "source": [
        "### Plotando o gráfico"
      ]
    },
    {
      "cell_type": "code",
      "execution_count": 53,
      "metadata": {
        "id": "RL6p-mX1ktct",
        "colab": {
          "base_uri": "https://localhost:8080/",
          "height": 423
        },
        "outputId": "37975fc7-92e3-4cdc-a35e-49fa203b8c55"
      },
      "outputs": [
        {
          "output_type": "execute_result",
          "data": {
            "text/plain": [
              "[<matplotlib.lines.Line2D at 0x7fbe6653c650>]"
            ]
          },
          "metadata": {},
          "execution_count": 53
        },
        {
          "output_type": "display_data",
          "data": {
            "text/plain": [
              "<Figure size 1080x432 with 1 Axes>"
            ],
            "image/png": "[encoded data removed]"
          },
          "metadata": {}
        }
      ],
      "source": [
        "pareto = sns.barplot(x=t_valores, y=nome)\n",
        "pareto.figure.set_size_inches(15,6)\n",
        "pareto.tick_params(labelsize=20)\n",
        "pareto.set_xlabel('t-valores',fontsize=20)\n",
        "\n",
        "pareto.plot(limite,nome,'r')\n"
      ]
    },
    {
      "cell_type": "markdown",
      "metadata": {
        "id": "GkSBiSr7ktct"
      },
      "source": [
        "<font color='red' style='font-size: 30px;'> Preditos por observados  </font>\n",
        "<hr style='border: 2px solid red;'>"
      ]
    },
    {
      "cell_type": "code",
      "execution_count": 54,
      "metadata": {
        "id": "rVIjxfYvktct"
      },
      "outputs": [],
      "source": [
        "observados = experimento['Porcoes']"
      ]
    },
    {
      "cell_type": "code",
      "execution_count": 55,
      "metadata": {
        "id": "_Tw4Ljjoktct",
        "colab": {
          "base_uri": "https://localhost:8080/"
        },
        "outputId": "9bd873d1-1df0-4c69-e0c1-123902632dc2"
      },
      "outputs": [
        {
          "output_type": "execute_result",
          "data": {
            "text/plain": [
              "0    19\n",
              "1    37\n",
              "2    24\n",
              "3    49\n",
              "4    29\n",
              "5    30\n",
              "6    29\n",
              "7    30\n",
              "Name: Porcoes, dtype: int64"
            ]
          },
          "metadata": {},
          "execution_count": 55
        }
      ],
      "source": [
        "observados"
      ]
    },
    {
      "cell_type": "markdown",
      "metadata": {
        "id": "BO_IfKQdktct"
      },
      "source": [
        "### ."
      ]
    },
    {
      "cell_type": "code",
      "execution_count": 57,
      "metadata": {
        "id": "5RRKH7Q7ktct"
      },
      "outputs": [],
      "source": [
        "preditos = modelo_ajustado_2.predict()"
      ]
    },
    {
      "cell_type": "code",
      "execution_count": 58,
      "metadata": {
        "id": "rROofTIZktct",
        "colab": {
          "base_uri": "https://localhost:8080/"
        },
        "outputId": "182a9b6b-5308-417a-a081-826169395b85"
      },
      "outputs": [
        {
          "output_type": "execute_result",
          "data": {
            "text/plain": [
              "array([15.875, 37.375, 24.375, 45.875, 30.875, 30.875, 30.875, 30.875])"
            ]
          },
          "metadata": {},
          "execution_count": 58
        }
      ],
      "source": [
        "preditos"
      ]
    },
    {
      "cell_type": "markdown",
      "metadata": {
        "id": "0Dhqtct1ktct"
      },
      "source": [
        "### ."
      ]
    },
    {
      "cell_type": "code",
      "execution_count": 59,
      "metadata": {
        "id": "GYIXG8DIktct"
      },
      "outputs": [],
      "source": [
        "import matplotlib.pyplot as plt"
      ]
    },
    {
      "cell_type": "code",
      "execution_count": 64,
      "metadata": {
        "id": "ewQsg8K5ktcu",
        "colab": {
          "base_uri": "https://localhost:8080/",
          "height": 356
        },
        "outputId": "50b47664-396a-4443-eef0-0c783b4a14c3"
      },
      "outputs": [
        {
          "output_type": "execute_result",
          "data": {
            "text/plain": [
              "<matplotlib.collections.PathCollection at 0x7fbe65ffcc90>"
            ]
          },
          "metadata": {},
          "execution_count": 64
        },
        {
          "output_type": "display_data",
          "data": {
            "text/plain": [
              "<Figure size 720x360 with 1 Axes>"
            ],
            "image/png": "[encoded data removed]"
          },
          "metadata": {}
        }
      ],
      "source": [
        "plt.figure(figsize=(10,5))\n",
        "plt.xlabel('Preditos',fontsize=16)\n",
        "plt.ylabel('Observados',fontsize=16)\n",
        "\n",
        "\n",
        "#Linhas de guia\n",
        "x = np.linspace(start =  15, stop=50,num= 10)\n",
        "y = np.linspace(start =  15, stop=50,num= 10)\n",
        "\n",
        "plt.plot(x,y,'r')\n",
        "plt.scatter(preditos,observados)"
      ]
    },
    {
      "cell_type": "code",
      "source": [
        "print(modelo_ajustado_2.summary())"
      ],
      "metadata": {
        "colab": {
          "base_uri": "https://localhost:8080/"
        },
        "id": "s8oLfnV1RXEq",
        "outputId": "9515e128-ea81-4eba-d4b4-d34dce4eb05e"
      },
      "execution_count": 65,
      "outputs": [
        {
          "output_type": "stream",
          "name": "stdout",
          "text": [
            "                            OLS Regression Results                            \n",
            "==============================================================================\n",
            "Dep. Variable:                Porcoes   R-squared:                       0.950\n",
            "Model:                            OLS   Adj. R-squared:                  0.929\n",
            "Method:                 Least Squares   F-statistic:                     47.09\n",
            "Date:                Wed, 29 Jun 2022   Prob (F-statistic):           0.000571\n",
            "Time:                        02:23:52   Log-Likelihood:                -16.416\n",
            "No. Observations:                   8   AIC:                             38.83\n",
            "Df Residuals:                       5   BIC:                             39.07\n",
            "Df Model:                           2                                         \n",
            "Covariance Type:            nonrobust                                         \n",
            "==============================================================================\n",
            "                 coef    std err          t      P>|t|      [0.025      0.975]\n",
            "------------------------------------------------------------------------------\n",
            "Intercept     30.8750      0.842     36.658      0.000      28.710      33.040\n",
            "Farinha       10.7500      1.191      9.025      0.000       7.688      13.812\n",
            "Chocolate      4.2500      1.191      3.568      0.016       1.188       7.312\n",
            "==============================================================================\n",
            "Omnibus:                        2.106   Durbin-Watson:                   1.850\n",
            "Prob(Omnibus):                  0.349   Jarque-Bera (JB):                1.245\n",
            "Skew:                           0.868   Prob(JB):                        0.537\n",
            "Kurtosis:                       2.153   Cond. No.                         1.41\n",
            "==============================================================================\n",
            "\n",
            "Warnings:\n",
            "[1] Standard Errors assume that the covariance matrix of the errors is correctly specified.\n"
          ]
        },
        {
          "output_type": "stream",
          "name": "stderr",
          "text": [
            "/usr/local/lib/python3.7/dist-packages/scipy/stats/stats.py:1535: UserWarning: kurtosistest only valid for n>=20 ... continuing anyway, n=8\n",
            "  \"anyway, n=%i\" % int(n))\n"
          ]
        }
      ]
    },
    {
      "cell_type": "markdown",
      "metadata": {
        "id": "CxSE3Ryfktcu"
      },
      "source": [
        "<hr>"
      ]
    },
    {
      "cell_type": "markdown",
      "metadata": {
        "id": "_8ZiP-Qnktcu"
      },
      "source": [
        "### ."
      ]
    },
    {
      "cell_type": "markdown",
      "metadata": {
        "id": "h61w91XWktcu"
      },
      "source": [
        "# <font color = 'purple'> Explorando o modelo   </font>\n",
        "\n",
        "\n",
        "<p style='margin: 30px 30px;'>\n",
        "    \n",
        "<hr style = 'border: 1px solid purple;'>"
      ]
    },
    {
      "cell_type": "code",
      "execution_count": 66,
      "metadata": {
        "id": "OplCNNJvktcu"
      },
      "outputs": [],
      "source": [
        "parametros = modelo_ajustado_2.params"
      ]
    },
    {
      "cell_type": "code",
      "execution_count": 67,
      "metadata": {
        "id": "RQZVQi5bktcu",
        "colab": {
          "base_uri": "https://localhost:8080/"
        },
        "outputId": "be157948-837d-4aa9-b107-6698d39c4ebf"
      },
      "outputs": [
        {
          "output_type": "execute_result",
          "data": {
            "text/plain": [
              "Intercept    30.875\n",
              "Farinha      10.750\n",
              "Chocolate     4.250\n",
              "dtype: float64"
            ]
          },
          "metadata": {},
          "execution_count": 67
        }
      ],
      "source": [
        "parametros"
      ]
    },
    {
      "cell_type": "markdown",
      "metadata": {
        "id": "5nGndSJwktcu"
      },
      "source": [
        "### ."
      ]
    },
    {
      "cell_type": "markdown",
      "metadata": {
        "id": "b5dKYCrhktcu"
      },
      "source": [
        "### Definindo a função"
      ]
    },
    {
      "cell_type": "code",
      "execution_count": 73,
      "metadata": {
        "id": "Txi9WWOmktcv"
      },
      "outputs": [],
      "source": [
        "def modelo_receita(x_f,x_c):\n",
        "\n",
        "  #limite\n",
        "  limite_normalizado = [-1,+1]\n",
        "  limite_farinha = [0.5,1.5]\n",
        "  limite_chocolate = [0.1,0.5]\n",
        "\n",
        "  #converter\n",
        "  x_f_convertido = np.interp(x_f,limite_farinha,limite_normalizado)\n",
        "  x_c_convertido = np.interp(x_c,limite_chocolate,limite_normalizado)\n",
        "\n",
        "\n",
        "  porcoes = parametros['Intercept'] + parametros['Farinha']*x_f_convertido + parametros['Chocolate']*x_c_convertido\n",
        "  return round(porcoes)\n"
      ]
    },
    {
      "cell_type": "code",
      "execution_count": 75,
      "metadata": {
        "id": "AahS8y1cktcv",
        "colab": {
          "base_uri": "https://localhost:8080/"
        },
        "outputId": "450671cb-b429-4fc9-c438-bdad673431fd"
      },
      "outputs": [
        {
          "output_type": "execute_result",
          "data": {
            "text/plain": [
              "22"
            ]
          },
          "metadata": {},
          "execution_count": 75
        }
      ],
      "source": [
        "modelo_receita(0.8,0.1)"
      ]
    },
    {
      "cell_type": "markdown",
      "metadata": {
        "id": "Fklr-YsJktcv"
      },
      "source": [
        "\n",
        "<p style='margin: 150px 150px;'>\n",
        "\n",
        "\n",
        "<hr>\n",
        "\n",
        "<img width='700px' src='https://github.com/OseiasBeu/StatisticsCourse/blob/main/Curso_Analise_de_Experimentos/figuras/Figura_22.png?raw=1'> \n",
        "\n",
        "\n",
        "<hr>"
      ]
    },
    {
      "cell_type": "markdown",
      "metadata": {
        "id": "bdx8iZbcktcv"
      },
      "source": [
        "# <font color = 'purple'> Mapa de cores   </font>\n",
        "\n",
        "\n",
        "<p style='margin: 30px 30px;'>\n",
        "    \n",
        "<hr style = 'border: 1px solid purple;'>"
      ]
    },
    {
      "cell_type": "markdown",
      "metadata": {
        "id": "TidIIK4Mktcv"
      },
      "source": [
        "\n",
        "<p style='margin: 150px 150px;'>\n",
        "\n",
        "\n",
        "<hr>\n",
        "\n",
        "<img width='700px' src='https://github.com/OseiasBeu/StatisticsCourse/blob/main/Curso_Analise_de_Experimentos/figuras/Figura_23.jpg?raw=1'> \n",
        "\n",
        "#### Fonte: National Centers for Environmental Prediction\n",
        "\n",
        "\n",
        "<hr>\n",
        "\n",
        "\n",
        "\n",
        "<p style='margin: 50px 50px;'>\n"
      ]
    },
    {
      "cell_type": "markdown",
      "metadata": {
        "id": "_8jZqR4Rktcv"
      },
      "source": [
        "\n",
        "\n",
        "<p style='margin: 150px 150px;'>\n",
        "\n",
        "\n",
        "<hr>\n",
        "\n",
        "<img width='600px' src='https://github.com/OseiasBeu/StatisticsCourse/blob/main/Curso_Analise_de_Experimentos/figuras/Figura_24.png?raw=1'> \n",
        "\n",
        "\n",
        "<hr>\n",
        "\n",
        "\n",
        "\n",
        "<p style='margin: 30px 30px;'>"
      ]
    },
    {
      "cell_type": "code",
      "execution_count": 77,
      "metadata": {
        "id": "AuOYcz0Uktcv",
        "colab": {
          "base_uri": "https://localhost:8080/"
        },
        "outputId": "09ecf91a-5f7e-4944-a7e9-e099e45f8129"
      },
      "outputs": [
        {
          "output_type": "execute_result",
          "data": {
            "text/plain": [
              "array([0.5       , 0.61111111, 0.72222222, 0.83333333, 0.94444444,\n",
              "       1.05555556, 1.16666667, 1.27777778, 1.38888889, 1.5       ])"
            ]
          },
          "metadata": {},
          "execution_count": 77
        }
      ],
      "source": [
        "x_farinha = np.linspace(start=0.5, stop=1.5, num = 10)\n",
        "x_farinha"
      ]
    },
    {
      "cell_type": "code",
      "execution_count": 78,
      "metadata": {
        "id": "Hxpo-ob5ktcw",
        "colab": {
          "base_uri": "https://localhost:8080/"
        },
        "outputId": "8b6c7bfe-18ac-49f9-9948-7275e3cfea11"
      },
      "outputs": [
        {
          "output_type": "execute_result",
          "data": {
            "text/plain": [
              "array([0.1       , 0.14444444, 0.18888889, 0.23333333, 0.27777778,\n",
              "       0.32222222, 0.36666667, 0.41111111, 0.45555556, 0.5       ])"
            ]
          },
          "metadata": {},
          "execution_count": 78
        }
      ],
      "source": [
        "x_chocolate = np.linspace(start=0.1, stop=0.5, num = 10)\n",
        "x_chocolate"
      ]
    },
    {
      "cell_type": "markdown",
      "metadata": {
        "id": "Grt5DEr2ktcw"
      },
      "source": [
        "### . "
      ]
    },
    {
      "cell_type": "code",
      "execution_count": 79,
      "metadata": {
        "id": "p4qhxQ6oktcw"
      },
      "outputs": [],
      "source": [
        "pontos = []\n",
        "\n",
        "for cont1 in x_farinha:\n",
        "  temp = []\n",
        "  for cont2 in x_chocolate:\n",
        "    temp.append(modelo_receita(cont1,cont2))\n",
        "  pontos.append(temp)\n"
      ]
    },
    {
      "cell_type": "code",
      "execution_count": 80,
      "metadata": {
        "id": "V4Q4CIvRktcw",
        "colab": {
          "base_uri": "https://localhost:8080/"
        },
        "outputId": "a6f49d6d-7c98-4f6a-bc8c-56cc57f7dff1"
      },
      "outputs": [
        {
          "output_type": "execute_result",
          "data": {
            "text/plain": [
              "[[16, 17, 18, 19, 20, 21, 22, 22, 23, 24],\n",
              " [18, 19, 20, 21, 22, 23, 24, 25, 26, 27],\n",
              " [21, 22, 23, 23, 24, 25, 26, 27, 28, 29],\n",
              " [23, 24, 25, 26, 27, 28, 29, 30, 31, 32],\n",
              " [25, 26, 27, 28, 29, 30, 31, 32, 33, 34],\n",
              " [28, 29, 30, 31, 32, 33, 33, 34, 35, 36],\n",
              " [30, 31, 32, 33, 34, 35, 36, 37, 38, 39],\n",
              " [33, 34, 34, 35, 36, 37, 38, 39, 40, 41],\n",
              " [35, 36, 37, 38, 39, 40, 41, 42, 43, 43],\n",
              " [37, 38, 39, 40, 41, 42, 43, 44, 45, 46]]"
            ]
          },
          "metadata": {},
          "execution_count": 80
        }
      ],
      "source": [
        "pontos"
      ]
    },
    {
      "cell_type": "markdown",
      "metadata": {
        "id": "3Dq3OEFdktcw"
      },
      "source": [
        "### ."
      ]
    },
    {
      "cell_type": "markdown",
      "metadata": {
        "id": "2BMLgql3ktcw"
      },
      "source": [
        "### Construindo a superfície de resposta"
      ]
    },
    {
      "cell_type": "code",
      "execution_count": 81,
      "metadata": {
        "id": "qKWY_qRnktcw"
      },
      "outputs": [],
      "source": [
        "import matplotlib.cm as cm"
      ]
    },
    {
      "cell_type": "markdown",
      "metadata": {
        "id": "t10izu4Hktcw"
      },
      "source": [
        "https://matplotlib.org/users/colormaps.html"
      ]
    },
    {
      "cell_type": "code",
      "execution_count": 88,
      "metadata": {
        "id": "0cYHv0qpktcw",
        "colab": {
          "base_uri": "https://localhost:8080/",
          "height": 445
        },
        "outputId": "626c5a16-2471-4c3a-edb5-3aa2c0110ce7"
      },
      "outputs": [
        {
          "output_type": "stream",
          "name": "stderr",
          "text": [
            "/usr/local/lib/python3.7/dist-packages/ipykernel_launcher.py:14: UserWarning: The following kwargs were not used by contour: 'linewidth'\n",
            "  \n"
          ]
        },
        {
          "output_type": "execute_result",
          "data": {
            "text/plain": [
              "<a list of 7 text.Text objects>"
            ]
          },
          "metadata": {},
          "execution_count": 88
        },
        {
          "output_type": "display_data",
          "data": {
            "text/plain": [
              "<Figure size 1152x432 with 2 Axes>"
            ],
            "image/png": "[encoded data removed]"
          },
          "metadata": {}
        }
      ],
      "source": [
        "#base \n",
        "plt.figure(figsize= (16,6))\n",
        "plt.xlabel('Farinha (kg)',fontsize=16)\n",
        "plt.ylabel('Chocolate (kg)',fontsize=16)\n",
        "\n",
        "#Mapa de cores\n",
        "mapa_cor = plt.imshow(pontos,origin='lower', cmap = cm.rainbow,interpolation='quadric',extent=(0.5,1.5, 0.1,0.5))\n",
        "\n",
        "#Barra de cor\n",
        "plt.colorbar().set_label('Porcoes',fontsize=16)\n",
        "\n",
        "#linha\n",
        "\n",
        "linhas = plt.contour(x_farinha, x_chocolate,pontos,colors='k',linewidth=1.5)\n",
        "plt.clabel(linhas,inline=True,fmt='%1.0f',fontsize=15.0,inline_spacing=10)"
      ]
    },
    {
      "cell_type": "code",
      "execution_count": 19,
      "metadata": {
        "id": "AMifFTd-ktcx"
      },
      "outputs": [],
      "source": [
        ""
      ]
    }
  ],
  "metadata": {
    "kernelspec": {
      "display_name": "Python 3",
      "language": "python",
      "name": "python3"
    },
    "language_info": {
      "codemirror_mode": {
        "name": "ipython",
        "version": 3
      },
      "file_extension": ".py",
      "mimetype": "text/x-python",
      "name": "python",
      "nbconvert_exporter": "python",
      "pygments_lexer": "ipython3",
      "version": "3.7.3"
    },
    "colab": {
      "name": "Planejamento_experimentos_aula.ipynb",
      "provenance": [],
      "toc_visible": true,
      "include_colab_link": true
    }
  },
  "nbformat": 4,
  "nbformat_minor": 0
}